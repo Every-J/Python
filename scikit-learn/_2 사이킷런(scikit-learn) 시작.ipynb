{
 "cells": [
  {
   "cell_type": "markdown",
   "metadata": {
    "id": "Bwm3Ce3oIgYi"
   },
   "source": [
    "# 사이킷런(scikit-learn) 시작\n",
    "\n",
    "![scikit-learn logo.png](https://drive.google.com/uc?id=1Aeb0mBJzYgz7UGmHAdGsQJF44EM9mNTD)"
   ]
  },
  {
   "cell_type": "markdown",
   "metadata": {
    "id": "mUAeISJXPqOJ"
   },
   "source": []
  },
  {
   "cell_type": "markdown",
   "metadata": {
    "id": "UhF1mufkp8TQ"
   },
   "source": [
    "## scikit-learn 특징\n",
    "\n",
    "* 다양한 머신러닝 알고리즘을 구현한 파이썬 라이브러리\n",
    "* 심플하고 일관성 있는 API, 유용한 온라인 문서, 풍부한 예제\n",
    "* 머신러닝을 위한 쉽고 효율적인 개발 라이브러리 제공\n",
    "* 다양한 머신러닝 관련 알고리즘과 개발을 위한 프레임워크와 API 제공\n",
    "* 많은 사람들이 사용하며 다양한 환경에서 검증된 라이브러리"
   ]
  },
  {
   "cell_type": "markdown",
   "metadata": {
    "id": "19ORAlQckvSb"
   },
   "source": [
    "## scikit-learn 주요 모듈"
   ]
  },
  {
   "cell_type": "markdown",
   "metadata": {
    "id": "n4luZ6ock5rm"
   },
   "source": [
    "| 모듈 | 설명 |\n",
    "|------|------|\n",
    "| `sklearn.datasets` | 내장된 예제 데이터 세트 |\n",
    "| `sklearn.preprocessing` | 다양한 데이터 전처리 기능 제공 (변환, 정규화, 스케일링 등) |\n",
    "| `sklearn.feature_selection` | 특징(feature)를 선택할 수 있는 기능 제공 | \n",
    "| `sklearn.feature_extraction` | 특징(feature) 추출에 사용 |\n",
    "| `sklearn.decomposition` | 차원 축소 관련 알고리즘 지원 (PCA, NMF, Truncated SVD 등)\n",
    "| `sklearn.model_selection` | 교차 검증을 위해 데이터를 학습/테스트용으로 분리, 최적 파라미터를 추출하는 API 제공 (GridSearch 등)\n",
    "| `sklearn.metrics` | 분류, 회귀, 클러스터링, Pairwise에 대한 다양한 성능 측정 방법 제공 (Accuracy, Precision, Recall, ROC-AUC, RMSE 등) |\n",
    "| `sklearn.pipeline` | 특징 처리 등의 변환과 ML 알고리즘 학습, 예측 등을 묶어서 실행할 수 있는 유틸리티 제공 |\n",
    "| `sklearn.linear_model` | 선형 회귀, 릿지(Ridge), 라쏘(Lasso), 로지스틱 회귀 등 회귀 관련 알고리즘과 SGD(Stochastic Gradient Descent) 알고리즘 제공 |\n",
    "| `sklearn.svm` | 서포트 벡터 머신 알고리즘 제공 |\n",
    "| `sklearn.neighbors` | 최근접 이웃 알고리즘 제공 (k-NN 등)\n",
    "| `sklearn.naive_bayes` | 나이브 베이즈 알고리즘 제공 (가우시안 NB, 다항 분포 NB 등) |\n",
    "| `sklearn.tree` | 의사 결정 트리 알고리즘 제공 |\n",
    "| `sklearn.ensemble` | 앙상블 알고리즘 제공 (Random Forest, AdaBoost, GradientBoost 등) |\n",
    "| `sklearn.cluster` | 비지도 클러스터링 알고리즘 제공 (k-Means, 계층형 클러스터링, DBSCAN 등)"
   ]
  },
  {
   "cell_type": "markdown",
   "metadata": {
    "id": "ikDZ-kpFo06o"
   },
   "source": [
    "## `estimator` API\n",
    "\n",
    "* 일관성: 모든 객체는 일관된 문서를 갖춘 제한된 메서드 집합에서 비롯된 공통 인터페이스 공유\n",
    "* 검사(inspection): 모든 지정된 파라미터 값은 공개 속성으로 노출\n",
    "* 제한된 객체 계층 구조\n",
    "  + 알고리즘만 파이썬 클래스에 의해 표현\n",
    "  + 데이터 세트는 표준 포맷(NumPy 배열, Pandas DataFrame, Scipy 희소 행렬)으로 표현\n",
    "  + 매개변수명은 표준 파이썬 문자열 사용\n",
    "* 구성: 많은 머신러닝 작업은 기본 알고리즘의 시퀀스로 나타낼 수 있으며, Scikit-Learn은 가능한 곳이라면 어디서든 이 방식을 사용\n",
    "* 합리적인 기본값: 모델이 사용자 지정 파라미터를 필요로 할 때 라이브러리가 적절한 기본값을 정의"
   ]
  },
  {
   "cell_type": "markdown",
   "metadata": {
    "id": "XKXC0zoTrmHM"
   },
   "source": [
    "### API 사용 방법\n",
    "\n",
    "1. Scikit-Learn으로부터 적절한 `estimator` 클래스를 임포트해서 모델의 클래스 선택\n",
    "2. 클래스를 원하는 값으로 인스턴스화해서 모델의 하이퍼파라미터 선택\n",
    "3. 데이터를 특징 배열과 대상 벡터로 배치\n",
    "4. 모델 인스턴스의 `fit()` 메서드를 호출해 모델을 데이터에 적합\n",
    "5. 모델을 새 데이터에 대해서 적용\n",
    "  + 지도 학습: 대체로 `predict()` 메서드를 사용해 알려지지 않은 데이터에 대한 레이블 예측\n",
    "  + 비지도 학습: 대체로 `transform()`이나 `predict()` 메서드를 사용해 데이터의 속성을 변환하거나 추론"
   ]
  },
  {
   "cell_type": "markdown",
   "metadata": {
    "id": "0WgAOokAPVvG"
   },
   "source": [
    "![scikit-learn](https://scikit-learn.org/stable/_static/ml_map.png)\n",
    "\n"
   ]
  },
  {
   "cell_type": "markdown",
   "metadata": {
    "id": "3lEfpb55skvd"
   },
   "source": [
    "### API 사용 예제"
   ]
  },
  {
   "cell_type": "code",
   "execution_count": 1,
   "metadata": {
    "ExecuteTime": {
     "end_time": "2021-08-29T07:28:47.841310Z",
     "start_time": "2021-08-29T07:28:47.603750Z"
    },
    "id": "Bxt8A5iQoHbc"
   },
   "outputs": [],
   "source": [
    "import numpy as np\n",
    "import matplotlib.pyplot as plt\n",
    "plt.style.use(['seaborn-whitegrid'])"
   ]
  },
  {
   "cell_type": "code",
   "execution_count": 2,
   "metadata": {
    "ExecuteTime": {
     "end_time": "2021-08-29T07:28:48.606068Z",
     "start_time": "2021-08-29T07:28:48.482972Z"
    },
    "id": "Ct9fa3T_s6nV"
   },
   "outputs": [
    {
     "data": {
      "image/png": "[encoded data removed]",
      "text/plain": [
       "<Figure size 432x288 with 1 Axes>"
      ]
     },
     "metadata": {},
     "output_type": "display_data"
    }
   ],
   "source": [
    "x = 10 * np.random.rand(50)\n",
    "y = 2 * x + np.random.rand(50)\n",
    "plt.scatter(x, y);"
   ]
  },
  {
   "cell_type": "code",
   "execution_count": 3,
   "metadata": {
    "ExecuteTime": {
     "end_time": "2021-08-29T07:28:52.894773Z",
     "start_time": "2021-08-29T07:28:52.169181Z"
    },
    "id": "4mYOpr_XubH2"
   },
   "outputs": [],
   "source": [
    "# 1. Scikit-Learn으로부터 적절한 estimator 클래스를 임포트해서 모델의 클래스 선택\n",
    "from sklearn.linear_model import LinearRegression"
   ]
  },
  {
   "cell_type": "code",
   "execution_count": 4,
   "metadata": {
    "ExecuteTime": {
     "end_time": "2021-08-29T07:28:53.910997Z",
     "start_time": "2021-08-29T07:28:53.905474Z"
    }
   },
   "outputs": [
    {
     "data": {
      "text/plain": [
       "LinearRegression()"
      ]
     },
     "execution_count": 4,
     "metadata": {},
     "output_type": "execute_result"
    }
   ],
   "source": [
    "# 2. 클래스를 원하는 값으로 인스턴스화해서 모델의 하이퍼파라미터 선택\n",
    "model = LinearRegression(fit_intercept=True)\n",
    "model\n",
    "# copy_X=True : 입력된 데이터를 복사할거냐 말거냐 True : 복사해서 사용함\n",
    "# fit_intercept : 상수형태의 값\n",
    "# n_jobs=None : 모델을 돌릴 때 cpu의 여러 코어를 사용해 병렬로 돌릴 수 있다"
   ]
  },
  {
   "cell_type": "code",
   "execution_count": 5,
   "metadata": {
    "ExecuteTime": {
     "end_time": "2021-08-29T07:28:55.551748Z",
     "start_time": "2021-08-29T07:28:55.547079Z"
    }
   },
   "outputs": [
    {
     "data": {
      "text/plain": [
       "array([4.54263743, 0.61828586, 1.89850677, 5.671668  , 0.99663164,\n",
       "       1.83040106, 8.48785942, 4.84057476, 9.22857302, 4.25123312,\n",
       "       4.03110548, 3.95404543, 1.65985588, 3.23938256, 5.9820028 ,\n",
       "       1.54379951, 1.69406459, 2.70782767, 6.78626038, 0.74870849,\n",
       "       8.23377477, 7.10927794, 2.21649795, 9.90216307, 8.12196695,\n",
       "       6.66709867, 5.27340991, 9.11749443, 4.18101402, 8.20606423,\n",
       "       7.20114981, 5.45038646, 7.69094655, 7.82913619, 8.62622693,\n",
       "       4.75333314, 8.82019333, 3.52123882, 1.94160251, 0.19768292,\n",
       "       2.8647091 , 2.13393196, 5.11276089, 3.89364431, 1.59868891,\n",
       "       8.95687722, 3.12145466, 4.35527533, 7.55075469, 8.20942431])"
      ]
     },
     "execution_count": 5,
     "metadata": {},
     "output_type": "execute_result"
    }
   ],
   "source": [
    "# 3. 데이터를 특징 배열과 대상 벡터로 배치\n",
    "x"
   ]
  },
  {
   "cell_type": "code",
   "execution_count": 6,
   "metadata": {
    "ExecuteTime": {
     "end_time": "2021-08-29T07:29:00.638347Z",
     "start_time": "2021-08-29T07:29:00.633450Z"
    }
   },
   "outputs": [
    {
     "data": {
      "text/plain": [
       "array([[4.54263743],\n",
       "       [0.61828586],\n",
       "       [1.89850677],\n",
       "       [5.671668  ],\n",
       "       [0.99663164],\n",
       "       [1.83040106],\n",
       "       [8.48785942],\n",
       "       [4.84057476],\n",
       "       [9.22857302],\n",
       "       [4.25123312],\n",
       "       [4.03110548],\n",
       "       [3.95404543],\n",
       "       [1.65985588],\n",
       "       [3.23938256],\n",
       "       [5.9820028 ],\n",
       "       [1.54379951],\n",
       "       [1.69406459],\n",
       "       [2.70782767],\n",
       "       [6.78626038],\n",
       "       [0.74870849],\n",
       "       [8.23377477],\n",
       "       [7.10927794],\n",
       "       [2.21649795],\n",
       "       [9.90216307],\n",
       "       [8.12196695],\n",
       "       [6.66709867],\n",
       "       [5.27340991],\n",
       "       [9.11749443],\n",
       "       [4.18101402],\n",
       "       [8.20606423],\n",
       "       [7.20114981],\n",
       "       [5.45038646],\n",
       "       [7.69094655],\n",
       "       [7.82913619],\n",
       "       [8.62622693],\n",
       "       [4.75333314],\n",
       "       [8.82019333],\n",
       "       [3.52123882],\n",
       "       [1.94160251],\n",
       "       [0.19768292],\n",
       "       [2.8647091 ],\n",
       "       [2.13393196],\n",
       "       [5.11276089],\n",
       "       [3.89364431],\n",
       "       [1.59868891],\n",
       "       [8.95687722],\n",
       "       [3.12145466],\n",
       "       [4.35527533],\n",
       "       [7.55075469],\n",
       "       [8.20942431]])"
      ]
     },
     "execution_count": 6,
     "metadata": {},
     "output_type": "execute_result"
    }
   ],
   "source": [
    "X = x[:, np.newaxis] # 축이 하나가 추가되서 2차원 형태로 변환\n",
    "X"
   ]
  },
  {
   "cell_type": "code",
   "execution_count": 7,
   "metadata": {
    "ExecuteTime": {
     "end_time": "2021-08-29T07:29:01.696254Z",
     "start_time": "2021-08-29T07:29:01.689801Z"
    }
   },
   "outputs": [
    {
     "data": {
      "text/plain": [
       "LinearRegression()"
      ]
     },
     "execution_count": 7,
     "metadata": {},
     "output_type": "execute_result"
    }
   ],
   "source": [
    "# 4. 모델 인스턴스의 fit() 메서드를 호출해 모델을 데이터에 적합\n",
    "model.fit(X, y)"
   ]
  },
  {
   "cell_type": "code",
   "execution_count": 8,
   "metadata": {
    "ExecuteTime": {
     "end_time": "2021-08-29T07:29:03.403775Z",
     "start_time": "2021-08-29T07:29:03.399568Z"
    }
   },
   "outputs": [
    {
     "data": {
      "text/plain": [
       "array([1.98570799])"
      ]
     },
     "execution_count": 8,
     "metadata": {},
     "output_type": "execute_result"
    }
   ],
   "source": [
    "model.coef_"
   ]
  },
  {
   "cell_type": "code",
   "execution_count": 9,
   "metadata": {
    "ExecuteTime": {
     "end_time": "2021-08-29T07:29:04.594675Z",
     "start_time": "2021-08-29T07:29:04.590927Z"
    }
   },
   "outputs": [
    {
     "data": {
      "text/plain": [
       "0.6339001512019653"
      ]
     },
     "execution_count": 9,
     "metadata": {},
     "output_type": "execute_result"
    }
   ],
   "source": [
    "model.intercept_"
   ]
  },
  {
   "cell_type": "code",
   "execution_count": 10,
   "metadata": {
    "ExecuteTime": {
     "end_time": "2021-08-29T07:29:05.765183Z",
     "start_time": "2021-08-29T07:29:05.762044Z"
    },
    "id": "ciPMcnzzzkDY"
   },
   "outputs": [],
   "source": [
    "# 5. 모델을 새 데이터에 대해서 적용\n",
    "xfit = np.linspace(-1, 11)\n",
    "Xfit = xfit[:, np.newaxis]\n",
    "yfit = model.predict(Xfit)"
   ]
  },
  {
   "cell_type": "code",
   "execution_count": 11,
   "metadata": {
    "ExecuteTime": {
     "end_time": "2021-08-29T07:29:09.354070Z",
     "start_time": "2021-08-29T07:29:09.251720Z"
    },
    "id": "t7OWKXAbz7nd"
   },
   "outputs": [
    {
     "data": {
      "image/png": "[encoded data removed]",
      "text/plain": [
       "<Figure size 432x288 with 1 Axes>"
      ]
     },
     "metadata": {},
     "output_type": "display_data"
    }
   ],
   "source": [
    "plt.scatter(x, y)\n",
    "plt.plot(xfit, yfit, '--r');"
   ]
  },
  {
   "cell_type": "markdown",
   "metadata": {
    "id": "29de3S_Kon64"
   },
   "source": [
    "## 예제 데이터 세트"
   ]
  },
  {
   "cell_type": "markdown",
   "metadata": {
    "id": "Bb8VoXDioqmL"
   },
   "source": [
    "### 분류 또는 회귀용 데이터 세트\n",
    "\n",
    "| API | 설명 |\n",
    "|-----|------|\n",
    "| `datasets.load_boston()` | 미국 보스턴의 집에 대한 특징과 가격 데이터 (회귀용) |\n",
    "| `datasets.load_breast_cancer()` | 위스콘신 유방암 특징들과 악성/음성 레이블 데이터 (분류용) |\n",
    "| `datasets.load_diabetes()` | 당뇨 데이터 (회귀용) |\n",
    "| `datasets.load_digits()` | 0에서 9까지 숫자 이미지 픽셀 데이터 (분류용) |\n",
    "| `datasets.load_iris()` | 붓꽃에 대한 특징을 가진 데이터 (분류용) |"
   ]
  },
  {
   "cell_type": "markdown",
   "metadata": {
    "id": "LbpkiHGK1Tce"
   },
   "source": [
    "### 온라인 데이터 세트\n",
    "\n",
    "* 데이터 크기가 커서 온라인에서 데이터를 다운로드 한 후에 불러오는 예제 데이터 세트\n",
    "\n",
    "| API | 설명 |\n",
    "|-----|------|\n",
    "| `fetch_california_housing()` | 캘리포니아 주택 가격 데이터 |\n",
    "| `fetch_covtype()` | 회귀 분석용 토지 조사 데이터 |\n",
    "| `fetch_20newsgroups()` | 뉴스 그룹 텍스트 데이터 |\n",
    "| `fetch_olivetti_faces()` | 얼굴 이미지 데이터 |\n",
    "| `fetch_lfw_people()` | 얼굴 이미지 데이터 |\n",
    "| `fetch_lfw_paris()` | 얼굴 이미지 데이터 |\n",
    "| `fetch_rcv1()` | 로이터 뉴스 말뭉치 데이터 |\n",
    "| `fetch_mldata()` | ML 웹사이트에서 다운로드 |"
   ]
  },
  {
   "cell_type": "markdown",
   "metadata": {
    "id": "sRecl-l_1UFE"
   },
   "source": [
    "### 분류와 클러스터링을 위한 표본 데이터 생성\n",
    "\n",
    "| API | 설명 |\n",
    "|-----|------|\n",
    "| `datasets.make_classifications()` | 분류를 위한 데이터 세트 생성. 높은 상관도, 불필요한 속성 등의 노이즈를 고려한 데이터를 무작위로 생성 |\n",
    "| `datasets.make_blobs()` | 클러스터링을 위한 데이터 세트 생성. 군집 지정 개수에 따라 여러 가지 클러스터링을 위한 데이터 셋트를 무작위로 생성 |"
   ]
  },
  {
   "cell_type": "markdown",
   "metadata": {
    "id": "gn8I5U0D4tP7"
   },
   "source": [
    "### 예제 데이터 세트 구조\n",
    "\n",
    "* 일반적으로 딕셔너리 형태로 구성\n",
    "* data: 특징 데이터 세트\n",
    "* target: 분류용은 레이블 값, 회귀용은 숫자 결과값 데이터\n",
    "* target_names: 개별 레이블의 이름 (분류용)\n",
    "* feature_names: 특징 이름\n",
    "* DESCR: 데이터 세트에 대한 설명과 각 특징 설명"
   ]
  },
  {
   "cell_type": "code",
   "execution_count": 12,
   "metadata": {
    "ExecuteTime": {
     "end_time": "2021-08-29T07:29:14.796451Z",
     "start_time": "2021-08-29T07:29:14.719722Z"
    },
    "id": "J4Xvo4kg6dHS"
   },
   "outputs": [
    {
     "name": "stdout",
     "output_type": "stream",
     "text": [
      "dict_keys(['data', 'target', 'frame', 'DESCR', 'feature_names', 'data_filename', 'target_filename'])\n"
     ]
    }
   ],
   "source": [
    "from sklearn.datasets import load_diabetes\n",
    "\n",
    "diabetes = load_diabetes()\n",
    "print(diabetes.keys())"
   ]
  },
  {
   "cell_type": "code",
   "execution_count": 13,
   "metadata": {
    "ExecuteTime": {
     "end_time": "2021-08-29T07:29:15.756843Z",
     "start_time": "2021-08-29T07:29:15.752897Z"
    },
    "id": "yuvZHGQ18cX-"
   },
   "outputs": [
    {
     "name": "stdout",
     "output_type": "stream",
     "text": [
      "[[ 0.03807591  0.05068012  0.06169621 ... -0.00259226  0.01990842\n",
      "  -0.01764613]\n",
      " [-0.00188202 -0.04464164 -0.05147406 ... -0.03949338 -0.06832974\n",
      "  -0.09220405]\n",
      " [ 0.08529891  0.05068012  0.04445121 ... -0.00259226  0.00286377\n",
      "  -0.02593034]\n",
      " ...\n",
      " [ 0.04170844  0.05068012 -0.01590626 ... -0.01107952 -0.04687948\n",
      "   0.01549073]\n",
      " [-0.04547248 -0.04464164  0.03906215 ...  0.02655962  0.04452837\n",
      "  -0.02593034]\n",
      " [-0.04547248 -0.04464164 -0.0730303  ... -0.03949338 -0.00421986\n",
      "   0.00306441]]\n"
     ]
    }
   ],
   "source": [
    "print(diabetes.data) # features"
   ]
  },
  {
   "cell_type": "code",
   "execution_count": 14,
   "metadata": {
    "ExecuteTime": {
     "end_time": "2021-08-29T07:29:16.569340Z",
     "start_time": "2021-08-29T07:29:16.562596Z"
    },
    "id": "BRmFh1oP8iKs"
   },
   "outputs": [
    {
     "name": "stdout",
     "output_type": "stream",
     "text": [
      "[151.  75. 141. 206. 135.  97. 138.  63. 110. 310. 101.  69. 179. 185.\n",
      " 118. 171. 166. 144.  97. 168.  68.  49.  68. 245. 184. 202. 137.  85.\n",
      " 131. 283. 129.  59. 341.  87.  65. 102. 265. 276. 252.  90. 100.  55.\n",
      "  61.  92. 259.  53. 190. 142.  75. 142. 155. 225.  59. 104. 182. 128.\n",
      "  52.  37. 170. 170.  61. 144.  52. 128.  71. 163. 150.  97. 160. 178.\n",
      "  48. 270. 202. 111.  85.  42. 170. 200. 252. 113. 143.  51.  52. 210.\n",
      "  65. 141.  55. 134.  42. 111.  98. 164.  48.  96.  90. 162. 150. 279.\n",
      "  92.  83. 128. 102. 302. 198.  95.  53. 134. 144. 232.  81. 104.  59.\n",
      " 246. 297. 258. 229. 275. 281. 179. 200. 200. 173. 180.  84. 121. 161.\n",
      "  99. 109. 115. 268. 274. 158. 107.  83. 103. 272.  85. 280. 336. 281.\n",
      " 118. 317. 235.  60. 174. 259. 178. 128.  96. 126. 288.  88. 292.  71.\n",
      " 197. 186.  25.  84.  96. 195.  53. 217. 172. 131. 214.  59.  70. 220.\n",
      " 268. 152.  47.  74. 295. 101. 151. 127. 237. 225.  81. 151. 107.  64.\n",
      " 138. 185. 265. 101. 137. 143. 141.  79. 292. 178.  91. 116.  86. 122.\n",
      "  72. 129. 142.  90. 158.  39. 196. 222. 277.  99. 196. 202. 155.  77.\n",
      " 191.  70.  73.  49.  65. 263. 248. 296. 214. 185.  78.  93. 252. 150.\n",
      "  77. 208.  77. 108. 160.  53. 220. 154. 259.  90. 246. 124.  67.  72.\n",
      " 257. 262. 275. 177.  71.  47. 187. 125.  78.  51. 258. 215. 303. 243.\n",
      "  91. 150. 310. 153. 346.  63.  89.  50.  39. 103. 308. 116. 145.  74.\n",
      "  45. 115. 264.  87. 202. 127. 182. 241.  66.  94. 283.  64. 102. 200.\n",
      " 265.  94. 230. 181. 156. 233.  60. 219.  80.  68. 332. 248.  84. 200.\n",
      "  55.  85.  89.  31. 129.  83. 275.  65. 198. 236. 253. 124.  44. 172.\n",
      " 114. 142. 109. 180. 144. 163. 147.  97. 220. 190. 109. 191. 122. 230.\n",
      " 242. 248. 249. 192. 131. 237.  78. 135. 244. 199. 270. 164.  72.  96.\n",
      " 306.  91. 214.  95. 216. 263. 178. 113. 200. 139. 139.  88. 148.  88.\n",
      " 243.  71.  77. 109. 272.  60.  54. 221.  90. 311. 281. 182. 321.  58.\n",
      " 262. 206. 233. 242. 123. 167.  63. 197.  71. 168. 140. 217. 121. 235.\n",
      " 245.  40.  52. 104. 132.  88.  69. 219.  72. 201. 110.  51. 277.  63.\n",
      " 118.  69. 273. 258.  43. 198. 242. 232. 175.  93. 168. 275. 293. 281.\n",
      "  72. 140. 189. 181. 209. 136. 261. 113. 131. 174. 257.  55.  84.  42.\n",
      " 146. 212. 233.  91. 111. 152. 120.  67. 310.  94. 183.  66. 173.  72.\n",
      "  49.  64.  48. 178. 104. 132. 220.  57.]\n"
     ]
    }
   ],
   "source": [
    "print(diabetes.target)"
   ]
  },
  {
   "cell_type": "code",
   "execution_count": 15,
   "metadata": {
    "ExecuteTime": {
     "end_time": "2021-08-29T07:29:17.625146Z",
     "start_time": "2021-08-29T07:29:17.621764Z"
    },
    "id": "GIg2ZbjG9XBm"
   },
   "outputs": [
    {
     "name": "stdout",
     "output_type": "stream",
     "text": [
      ".. _diabetes_dataset:\n",
      "\n",
      "Diabetes dataset\n",
      "----------------\n",
      "\n",
      "Ten baseline variables, age, sex, body mass index, average blood\n",
      "pressure, and six blood serum measurements were obtained for each of n =\n",
      "442 diabetes patients, as well as the response of interest, a\n",
      "quantitative measure of disease progression one year after baseline.\n",
      "\n",
      "**Data Set Characteristics:**\n",
      "\n",
      "  :Number of Instances: 442\n",
      "\n",
      "  :Number of Attributes: First 10 columns are numeric predictive values\n",
      "\n",
      "  :Target: Column 11 is a quantitative measure of disease progression one year after baseline\n",
      "\n",
      "  :Attribute Information:\n",
      "      - age     age in years\n",
      "      - sex\n",
      "      - bmi     body mass index\n",
      "      - bp      average blood pressure\n",
      "      - s1      tc, T-Cells (a type of white blood cells)\n",
      "      - s2      ldl, low-density lipoproteins\n",
      "      - s3      hdl, high-density lipoproteins\n",
      "      - s4      tch, thyroid stimulating hormone\n",
      "      - s5      ltg, lamotrigine\n",
      "      - s6      glu, blood sugar level\n",
      "\n",
      "Note: Each of these 10 feature variables have been mean centered and scaled by the standard deviation times `n_samples` (i.e. the sum of squares of each column totals 1).\n",
      "\n",
      "Source URL:\n",
      "https://www4.stat.ncsu.edu/~boos/var.select/diabetes.html\n",
      "\n",
      "For more information see:\n",
      "Bradley Efron, Trevor Hastie, Iain Johnstone and Robert Tibshirani (2004) \"Least Angle Regression,\" Annals of Statistics (with discussion), 407-499.\n",
      "(https://web.stanford.edu/~hastie/Papers/LARS/LeastAngle_2002.pdf)\n"
     ]
    }
   ],
   "source": [
    "print(diabetes.DESCR)"
   ]
  },
  {
   "cell_type": "code",
   "execution_count": 16,
   "metadata": {
    "ExecuteTime": {
     "end_time": "2021-08-29T07:29:25.318339Z",
     "start_time": "2021-08-29T07:29:25.315355Z"
    },
    "id": "6vLjpUAl8y3Z"
   },
   "outputs": [
    {
     "name": "stdout",
     "output_type": "stream",
     "text": [
      "['age', 'sex', 'bmi', 'bp', 's1', 's2', 's3', 's4', 's5', 's6']\n"
     ]
    }
   ],
   "source": [
    "print(diabetes.feature_names)"
   ]
  },
  {
   "cell_type": "code",
   "execution_count": 17,
   "metadata": {
    "ExecuteTime": {
     "end_time": "2021-08-29T07:29:25.949037Z",
     "start_time": "2021-08-29T07:29:25.946005Z"
    },
    "id": "RoSlB1kM8lpR"
   },
   "outputs": [
    {
     "name": "stdout",
     "output_type": "stream",
     "text": [
      "/Users/jay/opt/anaconda3/envs/codestates/lib/python3.8/site-packages/sklearn/datasets/data/diabetes_data.csv.gz\n",
      "/Users/jay/opt/anaconda3/envs/codestates/lib/python3.8/site-packages/sklearn/datasets/data/diabetes_target.csv.gz\n"
     ]
    }
   ],
   "source": [
    "print(diabetes.data_filename)\n",
    "print(diabetes.target_filename)"
   ]
  },
  {
   "cell_type": "markdown",
   "metadata": {
    "id": "sK7Xxb-4-s9r"
   },
   "source": [
    "## `model_selection` 모듈\n",
    "\n",
    "* 학습용 데이터와 테스트 데이터로 분리\n",
    "* 교차 검증 분할 및 평가\n",
    "* Estimator의 하이퍼 파라미터 튜닝을 위한 다양한 함수와 클래스 제공"
   ]
  },
  {
   "cell_type": "markdown",
   "metadata": {
    "id": "WoulI5Vo_C_Y"
   },
   "source": [
    "### `train_test_split()`: 학습/테스트 데이터 세트 분리"
   ]
  },
  {
   "cell_type": "code",
   "execution_count": 18,
   "metadata": {
    "ExecuteTime": {
     "end_time": "2021-08-29T07:29:27.394522Z",
     "start_time": "2021-08-29T07:29:27.363150Z"
    },
    "id": "p6g2drBI_CFw"
   },
   "outputs": [
    {
     "name": "stdout",
     "output_type": "stream",
     "text": [
      "학습데이터 점수 : 0.5469162721373287\n",
      "평가데이터 점수 : 0.43854609159447455\n"
     ]
    }
   ],
   "source": [
    "from sklearn.linear_model import LinearRegression\n",
    "from sklearn.model_selection import train_test_split\n",
    "from sklearn.datasets import load_diabetes\n",
    "\n",
    "diabetes = load_diabetes()\n",
    "X_train, X_test, y_train, y_test = train_test_split(diabetes.data, diabetes.target, test_size=0.3)\n",
    "\n",
    "# instanse화\n",
    "model = LinearRegression()\n",
    "model.fit(X_train, y_train)\n",
    "\n",
    "print(\"학습데이터 점수 : {}\".format(model.score(X_train, y_train)))\n",
    "print(\"평가데이터 점수 : {}\".format(model.score(X_test, y_test)))"
   ]
  },
  {
   "cell_type": "code",
   "execution_count": 19,
   "metadata": {
    "ExecuteTime": {
     "end_time": "2021-08-29T07:29:28.099566Z",
     "start_time": "2021-08-29T07:29:27.971740Z"
    },
    "id": "8vZFyqaoCpEC"
   },
   "outputs": [
    {
     "data": {
      "image/png": "[encoded data removed]",
      "text/plain": [
       "<Figure size 576x288 with 1 Axes>"
      ]
     },
     "metadata": {},
     "output_type": "display_data"
    }
   ],
   "source": [
    "import matplotlib.pyplot as plt\n",
    "\n",
    "predicted = model.predict(X_test)\n",
    "expected = y_test\n",
    "\n",
    "plt.figure(figsize=(8, 4))\n",
    "plt.scatter(expected, predicted)\n",
    "plt.plot([20, 350], [20, 350], '--r')\n",
    "plt.tight_layout()"
   ]
  },
  {
   "cell_type": "markdown",
   "metadata": {
    "id": "ngFG3QwGD4e2"
   },
   "source": [
    "### `cross_val_score()`: 교차 검증"
   ]
  },
  {
   "cell_type": "code",
   "execution_count": 20,
   "metadata": {
    "ExecuteTime": {
     "end_time": "2021-08-29T07:29:31.810286Z",
     "start_time": "2021-08-29T07:29:31.797932Z"
    },
    "id": "wnQp6pPTD9JM"
   },
   "outputs": [
    {
     "name": "stdout",
     "output_type": "stream",
     "text": [
      "교차 검증 정확도 : [0.42955643 0.52259828 0.4826784  0.42650827 0.55024923]\n",
      "교차 검증 정확도 : 0.4823181221114939 +/- 0.04926619776563216\n"
     ]
    }
   ],
   "source": [
    "from sklearn.model_selection import cross_val_score, cross_validate\n",
    "\n",
    "scores = cross_val_score(model, diabetes.data, diabetes.target, cv=5)\n",
    "\n",
    "print(\"교차 검증 정확도 : {}\".format(scores))\n",
    "print(\"교차 검증 정확도 : {} +/- {}\".format(np.mean(scores), np.std(scores)))"
   ]
  },
  {
   "cell_type": "markdown",
   "metadata": {
    "id": "zpgCUVF7XN5x"
   },
   "source": [
    "### `GridSearchCV`: 교차 검증과 최적 하이퍼 파라미터 찾기\n",
    "\n",
    "* 훈련 단계에서 학습한 파라미터에 영향을 받아서 최상의 파라미터를 찾는 일은 항상 어려운 문제\n",
    "* 다양한 모델의 훈련 과정을 자동화하고, 교차 검사를 사용해 최적 값을 제공하는 도구 필요"
   ]
  },
  {
   "cell_type": "code",
   "execution_count": 21,
   "metadata": {
    "ExecuteTime": {
     "end_time": "2021-08-29T07:29:35.104323Z",
     "start_time": "2021-08-29T07:29:34.712327Z"
    },
    "id": "xd96K4CuXMrU"
   },
   "outputs": [
    {
     "name": "stdout",
     "output_type": "stream",
     "text": [
      "최적의 점수 : 0.4633240541517594\n",
      "최적 파라미터 : {'alpha': 0.1}\n",
      "Ridge(alpha=0.1)\n"
     ]
    },
    {
     "data": {
      "text/html": [
       "<div>\n",
       "<style scoped>\n",
       "    .dataframe tbody tr th:only-of-type {\n",
       "        vertical-align: middle;\n",
       "    }\n",
       "\n",
       "    .dataframe tbody tr th {\n",
       "        vertical-align: top;\n",
       "    }\n",
       "\n",
       "    .dataframe thead th {\n",
       "        text-align: right;\n",
       "    }\n",
       "</style>\n",
       "<table border=\"1\" class=\"dataframe\">\n",
       "  <thead>\n",
       "    <tr style=\"text-align: right;\">\n",
       "      <th></th>\n",
       "      <th>0</th>\n",
       "      <th>1</th>\n",
       "      <th>2</th>\n",
       "      <th>3</th>\n",
       "      <th>4</th>\n",
       "      <th>5</th>\n",
       "      <th>6</th>\n",
       "    </tr>\n",
       "  </thead>\n",
       "  <tbody>\n",
       "    <tr>\n",
       "      <th>mean_fit_time</th>\n",
       "      <td>0.001245</td>\n",
       "      <td>0.000469</td>\n",
       "      <td>0.000472</td>\n",
       "      <td>0.000466</td>\n",
       "      <td>0.000472</td>\n",
       "      <td>0.000477</td>\n",
       "      <td>0.000476</td>\n",
       "    </tr>\n",
       "    <tr>\n",
       "      <th>std_fit_time</th>\n",
       "      <td>0.002309</td>\n",
       "      <td>0.000011</td>\n",
       "      <td>0.000033</td>\n",
       "      <td>0.000003</td>\n",
       "      <td>0.000014</td>\n",
       "      <td>0.000019</td>\n",
       "      <td>0.000009</td>\n",
       "    </tr>\n",
       "    <tr>\n",
       "      <th>mean_score_time</th>\n",
       "      <td>0.00027</td>\n",
       "      <td>0.00026</td>\n",
       "      <td>0.000273</td>\n",
       "      <td>0.00026</td>\n",
       "      <td>0.000268</td>\n",
       "      <td>0.00027</td>\n",
       "      <td>0.000265</td>\n",
       "    </tr>\n",
       "    <tr>\n",
       "      <th>std_score_time</th>\n",
       "      <td>0.000018</td>\n",
       "      <td>0.000002</td>\n",
       "      <td>0.000038</td>\n",
       "      <td>0.000003</td>\n",
       "      <td>0.00001</td>\n",
       "      <td>0.00002</td>\n",
       "      <td>0.000003</td>\n",
       "    </tr>\n",
       "    <tr>\n",
       "      <th>param_alpha</th>\n",
       "      <td>-0.001</td>\n",
       "      <td>0.01</td>\n",
       "      <td>0.1</td>\n",
       "      <td>1</td>\n",
       "      <td>10</td>\n",
       "      <td>100</td>\n",
       "      <td>1000</td>\n",
       "    </tr>\n",
       "    <tr>\n",
       "      <th>params</th>\n",
       "      <td>{'alpha': -0.001}</td>\n",
       "      <td>{'alpha': 0.01}</td>\n",
       "      <td>{'alpha': 0.1}</td>\n",
       "      <td>{'alpha': 1}</td>\n",
       "      <td>{'alpha': 10}</td>\n",
       "      <td>{'alpha': 100}</td>\n",
       "      <td>{'alpha': 1000}</td>\n",
       "    </tr>\n",
       "    <tr>\n",
       "      <th>split0_test_score</th>\n",
       "      <td>0.558241</td>\n",
       "      <td>0.546297</td>\n",
       "      <td>0.52655</td>\n",
       "      <td>0.421593</td>\n",
       "      <td>0.159386</td>\n",
       "      <td>0.012468</td>\n",
       "      <td>-0.009602</td>\n",
       "    </tr>\n",
       "    <tr>\n",
       "      <th>split1_test_score</th>\n",
       "      <td>0.226256</td>\n",
       "      <td>0.244132</td>\n",
       "      <td>0.244987</td>\n",
       "      <td>0.168442</td>\n",
       "      <td>-0.081177</td>\n",
       "      <td>-0.23448</td>\n",
       "      <td>-0.258118</td>\n",
       "    </tr>\n",
       "    <tr>\n",
       "      <th>split2_test_score</th>\n",
       "      <td>0.349261</td>\n",
       "      <td>0.368901</td>\n",
       "      <td>0.38353</td>\n",
       "      <td>0.358004</td>\n",
       "      <td>0.15219</td>\n",
       "      <td>0.013522</td>\n",
       "      <td>-0.007849</td>\n",
       "    </tr>\n",
       "    <tr>\n",
       "      <th>split3_test_score</th>\n",
       "      <td>0.62401</td>\n",
       "      <td>0.613732</td>\n",
       "      <td>0.606594</td>\n",
       "      <td>0.512608</td>\n",
       "      <td>0.16569</td>\n",
       "      <td>-0.01282</td>\n",
       "      <td>-0.038479</td>\n",
       "    </tr>\n",
       "    <tr>\n",
       "      <th>split4_test_score</th>\n",
       "      <td>0.264302</td>\n",
       "      <td>0.271717</td>\n",
       "      <td>0.286094</td>\n",
       "      <td>0.284928</td>\n",
       "      <td>0.119349</td>\n",
       "      <td>0.004838</td>\n",
       "      <td>-0.012933</td>\n",
       "    </tr>\n",
       "    <tr>\n",
       "      <th>split5_test_score</th>\n",
       "      <td>0.61651</td>\n",
       "      <td>0.623089</td>\n",
       "      <td>0.618033</td>\n",
       "      <td>0.514264</td>\n",
       "      <td>0.186933</td>\n",
       "      <td>0.022647</td>\n",
       "      <td>-0.000932</td>\n",
       "    </tr>\n",
       "    <tr>\n",
       "      <th>split6_test_score</th>\n",
       "      <td>0.415772</td>\n",
       "      <td>0.426074</td>\n",
       "      <td>0.43123</td>\n",
       "      <td>0.388246</td>\n",
       "      <td>0.158147</td>\n",
       "      <td>0.022028</td>\n",
       "      <td>0.001768</td>\n",
       "    </tr>\n",
       "    <tr>\n",
       "      <th>split7_test_score</th>\n",
       "      <td>0.437678</td>\n",
       "      <td>0.424759</td>\n",
       "      <td>0.441788</td>\n",
       "      <td>0.484448</td>\n",
       "      <td>0.203748</td>\n",
       "      <td>-0.009908</td>\n",
       "      <td>-0.042679</td>\n",
       "    </tr>\n",
       "    <tr>\n",
       "      <th>split8_test_score</th>\n",
       "      <td>0.435461</td>\n",
       "      <td>0.429484</td>\n",
       "      <td>0.431968</td>\n",
       "      <td>0.396502</td>\n",
       "      <td>0.153627</td>\n",
       "      <td>0.015589</td>\n",
       "      <td>-0.004652</td>\n",
       "    </tr>\n",
       "    <tr>\n",
       "      <th>split9_test_score</th>\n",
       "      <td>0.686479</td>\n",
       "      <td>0.680912</td>\n",
       "      <td>0.662466</td>\n",
       "      <td>0.525132</td>\n",
       "      <td>0.18944</td>\n",
       "      <td>0.026427</td>\n",
       "      <td>0.002744</td>\n",
       "    </tr>\n",
       "    <tr>\n",
       "      <th>mean_test_score</th>\n",
       "      <td>0.461397</td>\n",
       "      <td>0.46291</td>\n",
       "      <td>0.463324</td>\n",
       "      <td>0.405417</td>\n",
       "      <td>0.140733</td>\n",
       "      <td>-0.013969</td>\n",
       "      <td>-0.037073</td>\n",
       "    </tr>\n",
       "    <tr>\n",
       "      <th>std_test_score</th>\n",
       "      <td>0.148517</td>\n",
       "      <td>0.141446</td>\n",
       "      <td>0.132681</td>\n",
       "      <td>0.108385</td>\n",
       "      <td>0.077298</td>\n",
       "      <td>0.074561</td>\n",
       "      <td>0.075191</td>\n",
       "    </tr>\n",
       "    <tr>\n",
       "      <th>rank_test_score</th>\n",
       "      <td>3</td>\n",
       "      <td>2</td>\n",
       "      <td>1</td>\n",
       "      <td>4</td>\n",
       "      <td>5</td>\n",
       "      <td>6</td>\n",
       "      <td>7</td>\n",
       "    </tr>\n",
       "  </tbody>\n",
       "</table>\n",
       "</div>"
      ],
      "text/plain": [
       "                                   0                1               2  \\\n",
       "mean_fit_time               0.001245         0.000469        0.000472   \n",
       "std_fit_time                0.002309         0.000011        0.000033   \n",
       "mean_score_time              0.00027          0.00026        0.000273   \n",
       "std_score_time              0.000018         0.000002        0.000038   \n",
       "param_alpha                   -0.001             0.01             0.1   \n",
       "params             {'alpha': -0.001}  {'alpha': 0.01}  {'alpha': 0.1}   \n",
       "split0_test_score           0.558241         0.546297         0.52655   \n",
       "split1_test_score           0.226256         0.244132        0.244987   \n",
       "split2_test_score           0.349261         0.368901         0.38353   \n",
       "split3_test_score            0.62401         0.613732        0.606594   \n",
       "split4_test_score           0.264302         0.271717        0.286094   \n",
       "split5_test_score            0.61651         0.623089        0.618033   \n",
       "split6_test_score           0.415772         0.426074         0.43123   \n",
       "split7_test_score           0.437678         0.424759        0.441788   \n",
       "split8_test_score           0.435461         0.429484        0.431968   \n",
       "split9_test_score           0.686479         0.680912        0.662466   \n",
       "mean_test_score             0.461397          0.46291        0.463324   \n",
       "std_test_score              0.148517         0.141446        0.132681   \n",
       "rank_test_score                    3                2               1   \n",
       "\n",
       "                              3              4               5  \\\n",
       "mean_fit_time          0.000466       0.000472        0.000477   \n",
       "std_fit_time           0.000003       0.000014        0.000019   \n",
       "mean_score_time         0.00026       0.000268         0.00027   \n",
       "std_score_time         0.000003        0.00001         0.00002   \n",
       "param_alpha                   1             10             100   \n",
       "params             {'alpha': 1}  {'alpha': 10}  {'alpha': 100}   \n",
       "split0_test_score      0.421593       0.159386        0.012468   \n",
       "split1_test_score      0.168442      -0.081177        -0.23448   \n",
       "split2_test_score      0.358004        0.15219        0.013522   \n",
       "split3_test_score      0.512608        0.16569        -0.01282   \n",
       "split4_test_score      0.284928       0.119349        0.004838   \n",
       "split5_test_score      0.514264       0.186933        0.022647   \n",
       "split6_test_score      0.388246       0.158147        0.022028   \n",
       "split7_test_score      0.484448       0.203748       -0.009908   \n",
       "split8_test_score      0.396502       0.153627        0.015589   \n",
       "split9_test_score      0.525132        0.18944        0.026427   \n",
       "mean_test_score        0.405417       0.140733       -0.013969   \n",
       "std_test_score         0.108385       0.077298        0.074561   \n",
       "rank_test_score               4              5               6   \n",
       "\n",
       "                                 6  \n",
       "mean_fit_time             0.000476  \n",
       "std_fit_time              0.000009  \n",
       "mean_score_time           0.000265  \n",
       "std_score_time            0.000003  \n",
       "param_alpha                   1000  \n",
       "params             {'alpha': 1000}  \n",
       "split0_test_score        -0.009602  \n",
       "split1_test_score        -0.258118  \n",
       "split2_test_score        -0.007849  \n",
       "split3_test_score        -0.038479  \n",
       "split4_test_score        -0.012933  \n",
       "split5_test_score        -0.000932  \n",
       "split6_test_score         0.001768  \n",
       "split7_test_score        -0.042679  \n",
       "split8_test_score        -0.004652  \n",
       "split9_test_score         0.002744  \n",
       "mean_test_score          -0.037073  \n",
       "std_test_score            0.075191  \n",
       "rank_test_score                  7  "
      ]
     },
     "execution_count": 21,
     "metadata": {},
     "output_type": "execute_result"
    }
   ],
   "source": [
    "from sklearn.model_selection import GridSearchCV\n",
    "from sklearn.linear_model import Ridge\n",
    "import pandas as pd\n",
    "\n",
    "alpha = [-0.001, 0.01, 0.1, 1, 10, 100, 1000]\n",
    "param_grid = dict(alpha=alpha)\n",
    "\n",
    "gs = GridSearchCV(estimator=Ridge(), param_grid=param_grid, cv=10)\n",
    "result = gs.fit(diabetes.data, diabetes.target)\n",
    "\n",
    "print(\"최적의 점수 : {}\".format(result.best_score_))\n",
    "print(\"최적 파라미터 : {}\".format(result.best_params_))\n",
    "print(gs.best_estimator_)\n",
    "pd.DataFrame(result.cv_results_).T\n"
   ]
  },
  {
   "cell_type": "markdown",
   "metadata": {
    "id": "X6tTVC3sagc9"
   },
   "source": [
    "* `multiprocessing`을 이용한 `GridSearchCV`"
   ]
  },
  {
   "cell_type": "code",
   "execution_count": 22,
   "metadata": {
    "ExecuteTime": {
     "end_time": "2021-08-29T07:29:40.465330Z",
     "start_time": "2021-08-29T07:29:38.549027Z"
    },
    "id": "PKxQLen3aBxT"
   },
   "outputs": [
    {
     "name": "stdout",
     "output_type": "stream",
     "text": [
      "최적 점수: 0.9800000000000001\n",
      "최적 파라미터: {'C': 2.5, 'penalty': 'l2'}\n",
      "LogisticRegression(C=2.5)\n"
     ]
    },
    {
     "name": "stderr",
     "output_type": "stream",
     "text": [
      "/Users/jay/opt/anaconda3/envs/codestates/lib/python3.8/site-packages/sklearn/linear_model/_logistic.py:762: ConvergenceWarning: lbfgs failed to converge (status=1):\n",
      "STOP: TOTAL NO. of ITERATIONS REACHED LIMIT.\n",
      "\n",
      "Increase the number of iterations (max_iter) or scale the data as shown in:\n",
      "    https://scikit-learn.org/stable/modules/preprocessing.html\n",
      "Please also refer to the documentation for alternative solver options:\n",
      "    https://scikit-learn.org/stable/modules/linear_model.html#logistic-regression\n",
      "  n_iter_i = _check_optimize_result(\n"
     ]
    },
    {
     "data": {
      "text/html": [
       "<div>\n",
       "<style scoped>\n",
       "    .dataframe tbody tr th:only-of-type {\n",
       "        vertical-align: middle;\n",
       "    }\n",
       "\n",
       "    .dataframe tbody tr th {\n",
       "        vertical-align: top;\n",
       "    }\n",
       "\n",
       "    .dataframe thead th {\n",
       "        text-align: right;\n",
       "    }\n",
       "</style>\n",
       "<table border=\"1\" class=\"dataframe\">\n",
       "  <thead>\n",
       "    <tr style=\"text-align: right;\">\n",
       "      <th></th>\n",
       "      <th>0</th>\n",
       "      <th>1</th>\n",
       "      <th>2</th>\n",
       "      <th>3</th>\n",
       "      <th>4</th>\n",
       "      <th>5</th>\n",
       "      <th>6</th>\n",
       "      <th>7</th>\n",
       "      <th>8</th>\n",
       "      <th>9</th>\n",
       "    </tr>\n",
       "  </thead>\n",
       "  <tbody>\n",
       "    <tr>\n",
       "      <th>mean_fit_time</th>\n",
       "      <td>0.000198</td>\n",
       "      <td>0.061798</td>\n",
       "      <td>0.000254</td>\n",
       "      <td>0.061249</td>\n",
       "      <td>0.0002</td>\n",
       "      <td>0.046844</td>\n",
       "      <td>0.000162</td>\n",
       "      <td>0.043201</td>\n",
       "      <td>0.000152</td>\n",
       "      <td>0.037493</td>\n",
       "    </tr>\n",
       "    <tr>\n",
       "      <th>std_fit_time</th>\n",
       "      <td>0.000005</td>\n",
       "      <td>0.007978</td>\n",
       "      <td>0.000019</td>\n",
       "      <td>0.005714</td>\n",
       "      <td>0.000011</td>\n",
       "      <td>0.002792</td>\n",
       "      <td>0.00001</td>\n",
       "      <td>0.00302</td>\n",
       "      <td>0.000013</td>\n",
       "      <td>0.00444</td>\n",
       "    </tr>\n",
       "    <tr>\n",
       "      <th>mean_score_time</th>\n",
       "      <td>0.0</td>\n",
       "      <td>0.000821</td>\n",
       "      <td>0.0</td>\n",
       "      <td>0.000489</td>\n",
       "      <td>0.0</td>\n",
       "      <td>0.000385</td>\n",
       "      <td>0.0</td>\n",
       "      <td>0.000374</td>\n",
       "      <td>0.0</td>\n",
       "      <td>0.00027</td>\n",
       "    </tr>\n",
       "    <tr>\n",
       "      <th>std_score_time</th>\n",
       "      <td>0.0</td>\n",
       "      <td>0.000561</td>\n",
       "      <td>0.0</td>\n",
       "      <td>0.00016</td>\n",
       "      <td>0.0</td>\n",
       "      <td>0.000015</td>\n",
       "      <td>0.0</td>\n",
       "      <td>0.000059</td>\n",
       "      <td>0.0</td>\n",
       "      <td>0.000059</td>\n",
       "    </tr>\n",
       "    <tr>\n",
       "      <th>param_C</th>\n",
       "      <td>1.5</td>\n",
       "      <td>1.5</td>\n",
       "      <td>2.0</td>\n",
       "      <td>2.0</td>\n",
       "      <td>2.5</td>\n",
       "      <td>2.5</td>\n",
       "      <td>3.0</td>\n",
       "      <td>3.0</td>\n",
       "      <td>3.5</td>\n",
       "      <td>3.5</td>\n",
       "    </tr>\n",
       "    <tr>\n",
       "      <th>param_penalty</th>\n",
       "      <td>l1</td>\n",
       "      <td>l2</td>\n",
       "      <td>l1</td>\n",
       "      <td>l2</td>\n",
       "      <td>l1</td>\n",
       "      <td>l2</td>\n",
       "      <td>l1</td>\n",
       "      <td>l2</td>\n",
       "      <td>l1</td>\n",
       "      <td>l2</td>\n",
       "    </tr>\n",
       "    <tr>\n",
       "      <th>params</th>\n",
       "      <td>{'C': 1.5, 'penalty': 'l1'}</td>\n",
       "      <td>{'C': 1.5, 'penalty': 'l2'}</td>\n",
       "      <td>{'C': 2.0, 'penalty': 'l1'}</td>\n",
       "      <td>{'C': 2.0, 'penalty': 'l2'}</td>\n",
       "      <td>{'C': 2.5, 'penalty': 'l1'}</td>\n",
       "      <td>{'C': 2.5, 'penalty': 'l2'}</td>\n",
       "      <td>{'C': 3.0, 'penalty': 'l1'}</td>\n",
       "      <td>{'C': 3.0, 'penalty': 'l2'}</td>\n",
       "      <td>{'C': 3.5, 'penalty': 'l1'}</td>\n",
       "      <td>{'C': 3.5, 'penalty': 'l2'}</td>\n",
       "    </tr>\n",
       "    <tr>\n",
       "      <th>split0_test_score</th>\n",
       "      <td>NaN</td>\n",
       "      <td>1.0</td>\n",
       "      <td>NaN</td>\n",
       "      <td>1.0</td>\n",
       "      <td>NaN</td>\n",
       "      <td>1.0</td>\n",
       "      <td>NaN</td>\n",
       "      <td>1.0</td>\n",
       "      <td>NaN</td>\n",
       "      <td>1.0</td>\n",
       "    </tr>\n",
       "    <tr>\n",
       "      <th>split1_test_score</th>\n",
       "      <td>NaN</td>\n",
       "      <td>0.933333</td>\n",
       "      <td>NaN</td>\n",
       "      <td>0.933333</td>\n",
       "      <td>NaN</td>\n",
       "      <td>0.933333</td>\n",
       "      <td>NaN</td>\n",
       "      <td>0.933333</td>\n",
       "      <td>NaN</td>\n",
       "      <td>0.933333</td>\n",
       "    </tr>\n",
       "    <tr>\n",
       "      <th>split2_test_score</th>\n",
       "      <td>NaN</td>\n",
       "      <td>1.0</td>\n",
       "      <td>NaN</td>\n",
       "      <td>1.0</td>\n",
       "      <td>NaN</td>\n",
       "      <td>1.0</td>\n",
       "      <td>NaN</td>\n",
       "      <td>1.0</td>\n",
       "      <td>NaN</td>\n",
       "      <td>1.0</td>\n",
       "    </tr>\n",
       "    <tr>\n",
       "      <th>split3_test_score</th>\n",
       "      <td>NaN</td>\n",
       "      <td>1.0</td>\n",
       "      <td>NaN</td>\n",
       "      <td>1.0</td>\n",
       "      <td>NaN</td>\n",
       "      <td>1.0</td>\n",
       "      <td>NaN</td>\n",
       "      <td>1.0</td>\n",
       "      <td>NaN</td>\n",
       "      <td>1.0</td>\n",
       "    </tr>\n",
       "    <tr>\n",
       "      <th>split4_test_score</th>\n",
       "      <td>NaN</td>\n",
       "      <td>0.933333</td>\n",
       "      <td>NaN</td>\n",
       "      <td>0.933333</td>\n",
       "      <td>NaN</td>\n",
       "      <td>0.933333</td>\n",
       "      <td>NaN</td>\n",
       "      <td>0.933333</td>\n",
       "      <td>NaN</td>\n",
       "      <td>0.933333</td>\n",
       "    </tr>\n",
       "    <tr>\n",
       "      <th>split5_test_score</th>\n",
       "      <td>NaN</td>\n",
       "      <td>0.933333</td>\n",
       "      <td>NaN</td>\n",
       "      <td>0.933333</td>\n",
       "      <td>NaN</td>\n",
       "      <td>1.0</td>\n",
       "      <td>NaN</td>\n",
       "      <td>1.0</td>\n",
       "      <td>NaN</td>\n",
       "      <td>1.0</td>\n",
       "    </tr>\n",
       "    <tr>\n",
       "      <th>split6_test_score</th>\n",
       "      <td>NaN</td>\n",
       "      <td>0.933333</td>\n",
       "      <td>NaN</td>\n",
       "      <td>0.933333</td>\n",
       "      <td>NaN</td>\n",
       "      <td>0.933333</td>\n",
       "      <td>NaN</td>\n",
       "      <td>0.933333</td>\n",
       "      <td>NaN</td>\n",
       "      <td>0.933333</td>\n",
       "    </tr>\n",
       "    <tr>\n",
       "      <th>split7_test_score</th>\n",
       "      <td>NaN</td>\n",
       "      <td>1.0</td>\n",
       "      <td>NaN</td>\n",
       "      <td>1.0</td>\n",
       "      <td>NaN</td>\n",
       "      <td>1.0</td>\n",
       "      <td>NaN</td>\n",
       "      <td>1.0</td>\n",
       "      <td>NaN</td>\n",
       "      <td>1.0</td>\n",
       "    </tr>\n",
       "    <tr>\n",
       "      <th>split8_test_score</th>\n",
       "      <td>NaN</td>\n",
       "      <td>1.0</td>\n",
       "      <td>NaN</td>\n",
       "      <td>1.0</td>\n",
       "      <td>NaN</td>\n",
       "      <td>1.0</td>\n",
       "      <td>NaN</td>\n",
       "      <td>1.0</td>\n",
       "      <td>NaN</td>\n",
       "      <td>1.0</td>\n",
       "    </tr>\n",
       "    <tr>\n",
       "      <th>split9_test_score</th>\n",
       "      <td>NaN</td>\n",
       "      <td>1.0</td>\n",
       "      <td>NaN</td>\n",
       "      <td>1.0</td>\n",
       "      <td>NaN</td>\n",
       "      <td>1.0</td>\n",
       "      <td>NaN</td>\n",
       "      <td>1.0</td>\n",
       "      <td>NaN</td>\n",
       "      <td>1.0</td>\n",
       "    </tr>\n",
       "    <tr>\n",
       "      <th>mean_test_score</th>\n",
       "      <td>NaN</td>\n",
       "      <td>0.973333</td>\n",
       "      <td>NaN</td>\n",
       "      <td>0.973333</td>\n",
       "      <td>NaN</td>\n",
       "      <td>0.98</td>\n",
       "      <td>NaN</td>\n",
       "      <td>0.98</td>\n",
       "      <td>NaN</td>\n",
       "      <td>0.98</td>\n",
       "    </tr>\n",
       "    <tr>\n",
       "      <th>std_test_score</th>\n",
       "      <td>NaN</td>\n",
       "      <td>0.03266</td>\n",
       "      <td>NaN</td>\n",
       "      <td>0.03266</td>\n",
       "      <td>NaN</td>\n",
       "      <td>0.030551</td>\n",
       "      <td>NaN</td>\n",
       "      <td>0.030551</td>\n",
       "      <td>NaN</td>\n",
       "      <td>0.030551</td>\n",
       "    </tr>\n",
       "    <tr>\n",
       "      <th>rank_test_score</th>\n",
       "      <td>6</td>\n",
       "      <td>4</td>\n",
       "      <td>7</td>\n",
       "      <td>4</td>\n",
       "      <td>8</td>\n",
       "      <td>1</td>\n",
       "      <td>9</td>\n",
       "      <td>1</td>\n",
       "      <td>10</td>\n",
       "      <td>1</td>\n",
       "    </tr>\n",
       "  </tbody>\n",
       "</table>\n",
       "</div>"
      ],
      "text/plain": [
       "                                             0                            1  \\\n",
       "mean_fit_time                         0.000198                     0.061798   \n",
       "std_fit_time                          0.000005                     0.007978   \n",
       "mean_score_time                            0.0                     0.000821   \n",
       "std_score_time                             0.0                     0.000561   \n",
       "param_C                                    1.5                          1.5   \n",
       "param_penalty                               l1                           l2   \n",
       "params             {'C': 1.5, 'penalty': 'l1'}  {'C': 1.5, 'penalty': 'l2'}   \n",
       "split0_test_score                          NaN                          1.0   \n",
       "split1_test_score                          NaN                     0.933333   \n",
       "split2_test_score                          NaN                          1.0   \n",
       "split3_test_score                          NaN                          1.0   \n",
       "split4_test_score                          NaN                     0.933333   \n",
       "split5_test_score                          NaN                     0.933333   \n",
       "split6_test_score                          NaN                     0.933333   \n",
       "split7_test_score                          NaN                          1.0   \n",
       "split8_test_score                          NaN                          1.0   \n",
       "split9_test_score                          NaN                          1.0   \n",
       "mean_test_score                            NaN                     0.973333   \n",
       "std_test_score                             NaN                      0.03266   \n",
       "rank_test_score                              6                            4   \n",
       "\n",
       "                                             2                            3  \\\n",
       "mean_fit_time                         0.000254                     0.061249   \n",
       "std_fit_time                          0.000019                     0.005714   \n",
       "mean_score_time                            0.0                     0.000489   \n",
       "std_score_time                             0.0                      0.00016   \n",
       "param_C                                    2.0                          2.0   \n",
       "param_penalty                               l1                           l2   \n",
       "params             {'C': 2.0, 'penalty': 'l1'}  {'C': 2.0, 'penalty': 'l2'}   \n",
       "split0_test_score                          NaN                          1.0   \n",
       "split1_test_score                          NaN                     0.933333   \n",
       "split2_test_score                          NaN                          1.0   \n",
       "split3_test_score                          NaN                          1.0   \n",
       "split4_test_score                          NaN                     0.933333   \n",
       "split5_test_score                          NaN                     0.933333   \n",
       "split6_test_score                          NaN                     0.933333   \n",
       "split7_test_score                          NaN                          1.0   \n",
       "split8_test_score                          NaN                          1.0   \n",
       "split9_test_score                          NaN                          1.0   \n",
       "mean_test_score                            NaN                     0.973333   \n",
       "std_test_score                             NaN                      0.03266   \n",
       "rank_test_score                              7                            4   \n",
       "\n",
       "                                             4                            5  \\\n",
       "mean_fit_time                           0.0002                     0.046844   \n",
       "std_fit_time                          0.000011                     0.002792   \n",
       "mean_score_time                            0.0                     0.000385   \n",
       "std_score_time                             0.0                     0.000015   \n",
       "param_C                                    2.5                          2.5   \n",
       "param_penalty                               l1                           l2   \n",
       "params             {'C': 2.5, 'penalty': 'l1'}  {'C': 2.5, 'penalty': 'l2'}   \n",
       "split0_test_score                          NaN                          1.0   \n",
       "split1_test_score                          NaN                     0.933333   \n",
       "split2_test_score                          NaN                          1.0   \n",
       "split3_test_score                          NaN                          1.0   \n",
       "split4_test_score                          NaN                     0.933333   \n",
       "split5_test_score                          NaN                          1.0   \n",
       "split6_test_score                          NaN                     0.933333   \n",
       "split7_test_score                          NaN                          1.0   \n",
       "split8_test_score                          NaN                          1.0   \n",
       "split9_test_score                          NaN                          1.0   \n",
       "mean_test_score                            NaN                         0.98   \n",
       "std_test_score                             NaN                     0.030551   \n",
       "rank_test_score                              8                            1   \n",
       "\n",
       "                                             6                            7  \\\n",
       "mean_fit_time                         0.000162                     0.043201   \n",
       "std_fit_time                           0.00001                      0.00302   \n",
       "mean_score_time                            0.0                     0.000374   \n",
       "std_score_time                             0.0                     0.000059   \n",
       "param_C                                    3.0                          3.0   \n",
       "param_penalty                               l1                           l2   \n",
       "params             {'C': 3.0, 'penalty': 'l1'}  {'C': 3.0, 'penalty': 'l2'}   \n",
       "split0_test_score                          NaN                          1.0   \n",
       "split1_test_score                          NaN                     0.933333   \n",
       "split2_test_score                          NaN                          1.0   \n",
       "split3_test_score                          NaN                          1.0   \n",
       "split4_test_score                          NaN                     0.933333   \n",
       "split5_test_score                          NaN                          1.0   \n",
       "split6_test_score                          NaN                     0.933333   \n",
       "split7_test_score                          NaN                          1.0   \n",
       "split8_test_score                          NaN                          1.0   \n",
       "split9_test_score                          NaN                          1.0   \n",
       "mean_test_score                            NaN                         0.98   \n",
       "std_test_score                             NaN                     0.030551   \n",
       "rank_test_score                              9                            1   \n",
       "\n",
       "                                             8                            9  \n",
       "mean_fit_time                         0.000152                     0.037493  \n",
       "std_fit_time                          0.000013                      0.00444  \n",
       "mean_score_time                            0.0                      0.00027  \n",
       "std_score_time                             0.0                     0.000059  \n",
       "param_C                                    3.5                          3.5  \n",
       "param_penalty                               l1                           l2  \n",
       "params             {'C': 3.5, 'penalty': 'l1'}  {'C': 3.5, 'penalty': 'l2'}  \n",
       "split0_test_score                          NaN                          1.0  \n",
       "split1_test_score                          NaN                     0.933333  \n",
       "split2_test_score                          NaN                          1.0  \n",
       "split3_test_score                          NaN                          1.0  \n",
       "split4_test_score                          NaN                     0.933333  \n",
       "split5_test_score                          NaN                          1.0  \n",
       "split6_test_score                          NaN                     0.933333  \n",
       "split7_test_score                          NaN                          1.0  \n",
       "split8_test_score                          NaN                          1.0  \n",
       "split9_test_score                          NaN                          1.0  \n",
       "mean_test_score                            NaN                         0.98  \n",
       "std_test_score                             NaN                     0.030551  \n",
       "rank_test_score                             10                            1  "
      ]
     },
     "execution_count": 22,
     "metadata": {},
     "output_type": "execute_result"
    }
   ],
   "source": [
    "import multiprocessing # 모델을 페럴하게 수행할 수 있다\n",
    "from sklearn.datasets import load_iris\n",
    "from sklearn.linear_model import LogisticRegression\n",
    "\n",
    "iris = load_iris()\n",
    "\n",
    "param_grid = [{'penalty':['l1', 'l2'],\n",
    "               'C' : [1.5, 2.0, 2.5, 3.0, 3.5]}]\n",
    "# 'C' : [0.5, 1.0, 1.5, 1.8, 2.0, 2.4]}] 2.4가 제일 높게 나옴\n",
    "\n",
    "gs = GridSearchCV(estimator=LogisticRegression(), param_grid=param_grid,\n",
    "                 scoring='accuracy', cv=10, n_jobs=multiprocessing.cpu_count())\n",
    "result = gs.fit(iris.data, iris.target)\n",
    "\n",
    "print(\"최적 점수: {}\".format(result.best_score_))\n",
    "print(\"최적 파라미터: {}\".format(result.best_params_))\n",
    "print(gs.best_estimator_)\n",
    "pd.DataFrame(result.cv_results_).T"
   ]
  },
  {
   "cell_type": "markdown",
   "metadata": {
    "id": "M5_bY2inmPfQ"
   },
   "source": [
    "## `preprocessing` 데이터 전처리 모듈\n",
    "\n",
    "* 데이터의 특징 스케일링(feature scaling)을 위한 방법으로 표준화(Standardization)와 정규화(Normalization) 사용\n",
    "\n",
    "+ 표준화 방법\n",
    "\n",
    "\\begin{equation}\n",
    "x_i^{'} = \\frac{x_i-mean(x)}{stdev(x)}\n",
    "\\end{equation}\n",
    "\n",
    "+ 정규화 방법\n",
    "\n",
    "\\begin{equation}\n",
    "x_i^{'} = \\frac{x_i-min(x)}{max(x)-min(x)}\n",
    "\\end{equation}\n",
    "\n",
    "+ scikit-learn에서는 개별 벡터 크기를 맞추는 형태로 정규화"
   ]
  },
  {
   "cell_type": "markdown",
   "metadata": {
    "id": "fzdqo4OSrhDI"
   },
   "source": [
    "### `StandardScaler`: 표준화 클래스"
   ]
  },
  {
   "cell_type": "code",
   "execution_count": 23,
   "metadata": {
    "ExecuteTime": {
     "end_time": "2021-08-29T07:29:47.951123Z",
     "start_time": "2021-08-29T07:29:47.929701Z"
    },
    "id": "S3VZVnnyso1m"
   },
   "outputs": [
    {
     "data": {
      "text/html": [
       "<div>\n",
       "<style scoped>\n",
       "    .dataframe tbody tr th:only-of-type {\n",
       "        vertical-align: middle;\n",
       "    }\n",
       "\n",
       "    .dataframe tbody tr th {\n",
       "        vertical-align: top;\n",
       "    }\n",
       "\n",
       "    .dataframe thead th {\n",
       "        text-align: right;\n",
       "    }\n",
       "</style>\n",
       "<table border=\"1\" class=\"dataframe\">\n",
       "  <thead>\n",
       "    <tr style=\"text-align: right;\">\n",
       "      <th></th>\n",
       "      <th>sepal length (cm)</th>\n",
       "      <th>sepal width (cm)</th>\n",
       "      <th>petal length (cm)</th>\n",
       "      <th>petal width (cm)</th>\n",
       "    </tr>\n",
       "  </thead>\n",
       "  <tbody>\n",
       "    <tr>\n",
       "      <th>count</th>\n",
       "      <td>150.000000</td>\n",
       "      <td>150.000000</td>\n",
       "      <td>150.000000</td>\n",
       "      <td>150.000000</td>\n",
       "    </tr>\n",
       "    <tr>\n",
       "      <th>mean</th>\n",
       "      <td>5.843333</td>\n",
       "      <td>3.057333</td>\n",
       "      <td>3.758000</td>\n",
       "      <td>1.199333</td>\n",
       "    </tr>\n",
       "    <tr>\n",
       "      <th>std</th>\n",
       "      <td>0.828066</td>\n",
       "      <td>0.435866</td>\n",
       "      <td>1.765298</td>\n",
       "      <td>0.762238</td>\n",
       "    </tr>\n",
       "    <tr>\n",
       "      <th>min</th>\n",
       "      <td>4.300000</td>\n",
       "      <td>2.000000</td>\n",
       "      <td>1.000000</td>\n",
       "      <td>0.100000</td>\n",
       "    </tr>\n",
       "    <tr>\n",
       "      <th>25%</th>\n",
       "      <td>5.100000</td>\n",
       "      <td>2.800000</td>\n",
       "      <td>1.600000</td>\n",
       "      <td>0.300000</td>\n",
       "    </tr>\n",
       "    <tr>\n",
       "      <th>50%</th>\n",
       "      <td>5.800000</td>\n",
       "      <td>3.000000</td>\n",
       "      <td>4.350000</td>\n",
       "      <td>1.300000</td>\n",
       "    </tr>\n",
       "    <tr>\n",
       "      <th>75%</th>\n",
       "      <td>6.400000</td>\n",
       "      <td>3.300000</td>\n",
       "      <td>5.100000</td>\n",
       "      <td>1.800000</td>\n",
       "    </tr>\n",
       "    <tr>\n",
       "      <th>max</th>\n",
       "      <td>7.900000</td>\n",
       "      <td>4.400000</td>\n",
       "      <td>6.900000</td>\n",
       "      <td>2.500000</td>\n",
       "    </tr>\n",
       "  </tbody>\n",
       "</table>\n",
       "</div>"
      ],
      "text/plain": [
       "       sepal length (cm)  sepal width (cm)  petal length (cm)  \\\n",
       "count         150.000000        150.000000         150.000000   \n",
       "mean            5.843333          3.057333           3.758000   \n",
       "std             0.828066          0.435866           1.765298   \n",
       "min             4.300000          2.000000           1.000000   \n",
       "25%             5.100000          2.800000           1.600000   \n",
       "50%             5.800000          3.000000           4.350000   \n",
       "75%             6.400000          3.300000           5.100000   \n",
       "max             7.900000          4.400000           6.900000   \n",
       "\n",
       "       petal width (cm)  \n",
       "count        150.000000  \n",
       "mean           1.199333  \n",
       "std            0.762238  \n",
       "min            0.100000  \n",
       "25%            0.300000  \n",
       "50%            1.300000  \n",
       "75%            1.800000  \n",
       "max            2.500000  "
      ]
     },
     "execution_count": 23,
     "metadata": {},
     "output_type": "execute_result"
    }
   ],
   "source": [
    "iris = load_iris()\n",
    "iris_df = pd.DataFrame(data=iris.data, columns=iris.feature_names)\n",
    "iris_df.describe()"
   ]
  },
  {
   "cell_type": "code",
   "execution_count": 24,
   "metadata": {
    "ExecuteTime": {
     "end_time": "2021-08-29T07:29:48.941313Z",
     "start_time": "2021-08-29T07:29:48.919541Z"
    },
    "id": "rGtTNBFquBIS"
   },
   "outputs": [
    {
     "data": {
      "text/html": [
       "<div>\n",
       "<style scoped>\n",
       "    .dataframe tbody tr th:only-of-type {\n",
       "        vertical-align: middle;\n",
       "    }\n",
       "\n",
       "    .dataframe tbody tr th {\n",
       "        vertical-align: top;\n",
       "    }\n",
       "\n",
       "    .dataframe thead th {\n",
       "        text-align: right;\n",
       "    }\n",
       "</style>\n",
       "<table border=\"1\" class=\"dataframe\">\n",
       "  <thead>\n",
       "    <tr style=\"text-align: right;\">\n",
       "      <th></th>\n",
       "      <th>sepal length (cm)</th>\n",
       "      <th>sepal width (cm)</th>\n",
       "      <th>petal length (cm)</th>\n",
       "      <th>petal width (cm)</th>\n",
       "    </tr>\n",
       "  </thead>\n",
       "  <tbody>\n",
       "    <tr>\n",
       "      <th>count</th>\n",
       "      <td>1.500000e+02</td>\n",
       "      <td>1.500000e+02</td>\n",
       "      <td>1.500000e+02</td>\n",
       "      <td>1.500000e+02</td>\n",
       "    </tr>\n",
       "    <tr>\n",
       "      <th>mean</th>\n",
       "      <td>-1.690315e-15</td>\n",
       "      <td>-1.842970e-15</td>\n",
       "      <td>-1.698641e-15</td>\n",
       "      <td>-1.409243e-15</td>\n",
       "    </tr>\n",
       "    <tr>\n",
       "      <th>std</th>\n",
       "      <td>1.003350e+00</td>\n",
       "      <td>1.003350e+00</td>\n",
       "      <td>1.003350e+00</td>\n",
       "      <td>1.003350e+00</td>\n",
       "    </tr>\n",
       "    <tr>\n",
       "      <th>min</th>\n",
       "      <td>-1.870024e+00</td>\n",
       "      <td>-2.433947e+00</td>\n",
       "      <td>-1.567576e+00</td>\n",
       "      <td>-1.447076e+00</td>\n",
       "    </tr>\n",
       "    <tr>\n",
       "      <th>25%</th>\n",
       "      <td>-9.006812e-01</td>\n",
       "      <td>-5.923730e-01</td>\n",
       "      <td>-1.226552e+00</td>\n",
       "      <td>-1.183812e+00</td>\n",
       "    </tr>\n",
       "    <tr>\n",
       "      <th>50%</th>\n",
       "      <td>-5.250608e-02</td>\n",
       "      <td>-1.319795e-01</td>\n",
       "      <td>3.364776e-01</td>\n",
       "      <td>1.325097e-01</td>\n",
       "    </tr>\n",
       "    <tr>\n",
       "      <th>75%</th>\n",
       "      <td>6.745011e-01</td>\n",
       "      <td>5.586108e-01</td>\n",
       "      <td>7.627583e-01</td>\n",
       "      <td>7.906707e-01</td>\n",
       "    </tr>\n",
       "    <tr>\n",
       "      <th>max</th>\n",
       "      <td>2.492019e+00</td>\n",
       "      <td>3.090775e+00</td>\n",
       "      <td>1.785832e+00</td>\n",
       "      <td>1.712096e+00</td>\n",
       "    </tr>\n",
       "  </tbody>\n",
       "</table>\n",
       "</div>"
      ],
      "text/plain": [
       "       sepal length (cm)  sepal width (cm)  petal length (cm)  \\\n",
       "count       1.500000e+02      1.500000e+02       1.500000e+02   \n",
       "mean       -1.690315e-15     -1.842970e-15      -1.698641e-15   \n",
       "std         1.003350e+00      1.003350e+00       1.003350e+00   \n",
       "min        -1.870024e+00     -2.433947e+00      -1.567576e+00   \n",
       "25%        -9.006812e-01     -5.923730e-01      -1.226552e+00   \n",
       "50%        -5.250608e-02     -1.319795e-01       3.364776e-01   \n",
       "75%         6.745011e-01      5.586108e-01       7.627583e-01   \n",
       "max         2.492019e+00      3.090775e+00       1.785832e+00   \n",
       "\n",
       "       petal width (cm)  \n",
       "count      1.500000e+02  \n",
       "mean      -1.409243e-15  \n",
       "std        1.003350e+00  \n",
       "min       -1.447076e+00  \n",
       "25%       -1.183812e+00  \n",
       "50%        1.325097e-01  \n",
       "75%        7.906707e-01  \n",
       "max        1.712096e+00  "
      ]
     },
     "execution_count": 24,
     "metadata": {},
     "output_type": "execute_result"
    }
   ],
   "source": [
    "from sklearn.preprocessing import StandardScaler\n",
    "\n",
    "scaler = StandardScaler()\n",
    "iris_scaled = scaler.fit_transform(iris_df)\n",
    "iris_df_scaled = pd.DataFrame(data=iris_scaled, columns=iris.feature_names)\n",
    "iris_df_scaled.describe()"
   ]
  },
  {
   "cell_type": "code",
   "execution_count": 25,
   "metadata": {
    "ExecuteTime": {
     "end_time": "2021-08-29T07:29:49.871924Z",
     "start_time": "2021-08-29T07:29:49.861869Z"
    },
    "id": "UwYeH_9k_Rog"
   },
   "outputs": [
    {
     "data": {
      "text/plain": [
       "array([[-9.00681170e-01,  1.01900435e+00, -1.34022653e+00,\n",
       "        -1.31544430e+00],\n",
       "       [-1.14301691e+00, -1.31979479e-01, -1.34022653e+00,\n",
       "        -1.31544430e+00],\n",
       "       [-1.38535265e+00,  3.28414053e-01, -1.39706395e+00,\n",
       "        -1.31544430e+00],\n",
       "       [-1.50652052e+00,  9.82172869e-02, -1.28338910e+00,\n",
       "        -1.31544430e+00],\n",
       "       [-1.02184904e+00,  1.24920112e+00, -1.34022653e+00,\n",
       "        -1.31544430e+00],\n",
       "       [-5.37177559e-01,  1.93979142e+00, -1.16971425e+00,\n",
       "        -1.05217993e+00],\n",
       "       [-1.50652052e+00,  7.88807586e-01, -1.34022653e+00,\n",
       "        -1.18381211e+00],\n",
       "       [-1.02184904e+00,  7.88807586e-01, -1.28338910e+00,\n",
       "        -1.31544430e+00],\n",
       "       [-1.74885626e+00, -3.62176246e-01, -1.34022653e+00,\n",
       "        -1.31544430e+00],\n",
       "       [-1.14301691e+00,  9.82172869e-02, -1.28338910e+00,\n",
       "        -1.44707648e+00],\n",
       "       [-5.37177559e-01,  1.47939788e+00, -1.28338910e+00,\n",
       "        -1.31544430e+00],\n",
       "       [-1.26418478e+00,  7.88807586e-01, -1.22655167e+00,\n",
       "        -1.31544430e+00],\n",
       "       [-1.26418478e+00, -1.31979479e-01, -1.34022653e+00,\n",
       "        -1.44707648e+00],\n",
       "       [-1.87002413e+00, -1.31979479e-01, -1.51073881e+00,\n",
       "        -1.44707648e+00],\n",
       "       [-5.25060772e-02,  2.16998818e+00, -1.45390138e+00,\n",
       "        -1.31544430e+00],\n",
       "       [-1.73673948e-01,  3.09077525e+00, -1.28338910e+00,\n",
       "        -1.05217993e+00],\n",
       "       [-5.37177559e-01,  1.93979142e+00, -1.39706395e+00,\n",
       "        -1.05217993e+00],\n",
       "       [-9.00681170e-01,  1.01900435e+00, -1.34022653e+00,\n",
       "        -1.18381211e+00],\n",
       "       [-1.73673948e-01,  1.70959465e+00, -1.16971425e+00,\n",
       "        -1.18381211e+00],\n",
       "       [-9.00681170e-01,  1.70959465e+00, -1.28338910e+00,\n",
       "        -1.18381211e+00],\n",
       "       [-5.37177559e-01,  7.88807586e-01, -1.16971425e+00,\n",
       "        -1.31544430e+00],\n",
       "       [-9.00681170e-01,  1.47939788e+00, -1.28338910e+00,\n",
       "        -1.05217993e+00],\n",
       "       [-1.50652052e+00,  1.24920112e+00, -1.56757623e+00,\n",
       "        -1.31544430e+00],\n",
       "       [-9.00681170e-01,  5.58610819e-01, -1.16971425e+00,\n",
       "        -9.20547742e-01],\n",
       "       [-1.26418478e+00,  7.88807586e-01, -1.05603939e+00,\n",
       "        -1.31544430e+00],\n",
       "       [-1.02184904e+00, -1.31979479e-01, -1.22655167e+00,\n",
       "        -1.31544430e+00],\n",
       "       [-1.02184904e+00,  7.88807586e-01, -1.22655167e+00,\n",
       "        -1.05217993e+00],\n",
       "       [-7.79513300e-01,  1.01900435e+00, -1.28338910e+00,\n",
       "        -1.31544430e+00],\n",
       "       [-7.79513300e-01,  7.88807586e-01, -1.34022653e+00,\n",
       "        -1.31544430e+00],\n",
       "       [-1.38535265e+00,  3.28414053e-01, -1.22655167e+00,\n",
       "        -1.31544430e+00],\n",
       "       [-1.26418478e+00,  9.82172869e-02, -1.22655167e+00,\n",
       "        -1.31544430e+00],\n",
       "       [-5.37177559e-01,  7.88807586e-01, -1.28338910e+00,\n",
       "        -1.05217993e+00],\n",
       "       [-7.79513300e-01,  2.40018495e+00, -1.28338910e+00,\n",
       "        -1.44707648e+00],\n",
       "       [-4.16009689e-01,  2.63038172e+00, -1.34022653e+00,\n",
       "        -1.31544430e+00],\n",
       "       [-1.14301691e+00,  9.82172869e-02, -1.28338910e+00,\n",
       "        -1.31544430e+00],\n",
       "       [-1.02184904e+00,  3.28414053e-01, -1.45390138e+00,\n",
       "        -1.31544430e+00],\n",
       "       [-4.16009689e-01,  1.01900435e+00, -1.39706395e+00,\n",
       "        -1.31544430e+00],\n",
       "       [-1.14301691e+00,  1.24920112e+00, -1.34022653e+00,\n",
       "        -1.44707648e+00],\n",
       "       [-1.74885626e+00, -1.31979479e-01, -1.39706395e+00,\n",
       "        -1.31544430e+00],\n",
       "       [-9.00681170e-01,  7.88807586e-01, -1.28338910e+00,\n",
       "        -1.31544430e+00],\n",
       "       [-1.02184904e+00,  1.01900435e+00, -1.39706395e+00,\n",
       "        -1.18381211e+00],\n",
       "       [-1.62768839e+00, -1.74335684e+00, -1.39706395e+00,\n",
       "        -1.18381211e+00],\n",
       "       [-1.74885626e+00,  3.28414053e-01, -1.39706395e+00,\n",
       "        -1.31544430e+00],\n",
       "       [-1.02184904e+00,  1.01900435e+00, -1.22655167e+00,\n",
       "        -7.88915558e-01],\n",
       "       [-9.00681170e-01,  1.70959465e+00, -1.05603939e+00,\n",
       "        -1.05217993e+00],\n",
       "       [-1.26418478e+00, -1.31979479e-01, -1.34022653e+00,\n",
       "        -1.18381211e+00],\n",
       "       [-9.00681170e-01,  1.70959465e+00, -1.22655167e+00,\n",
       "        -1.31544430e+00],\n",
       "       [-1.50652052e+00,  3.28414053e-01, -1.34022653e+00,\n",
       "        -1.31544430e+00],\n",
       "       [-6.58345429e-01,  1.47939788e+00, -1.28338910e+00,\n",
       "        -1.31544430e+00],\n",
       "       [-1.02184904e+00,  5.58610819e-01, -1.34022653e+00,\n",
       "        -1.31544430e+00],\n",
       "       [ 1.40150837e+00,  3.28414053e-01,  5.35408562e-01,\n",
       "         2.64141916e-01],\n",
       "       [ 6.74501145e-01,  3.28414053e-01,  4.21733708e-01,\n",
       "         3.95774101e-01],\n",
       "       [ 1.28034050e+00,  9.82172869e-02,  6.49083415e-01,\n",
       "         3.95774101e-01],\n",
       "       [-4.16009689e-01, -1.74335684e+00,  1.37546573e-01,\n",
       "         1.32509732e-01],\n",
       "       [ 7.95669016e-01, -5.92373012e-01,  4.78571135e-01,\n",
       "         3.95774101e-01],\n",
       "       [-1.73673948e-01, -5.92373012e-01,  4.21733708e-01,\n",
       "         1.32509732e-01],\n",
       "       [ 5.53333275e-01,  5.58610819e-01,  5.35408562e-01,\n",
       "         5.27406285e-01],\n",
       "       [-1.14301691e+00, -1.51316008e+00, -2.60315415e-01,\n",
       "        -2.62386821e-01],\n",
       "       [ 9.16836886e-01, -3.62176246e-01,  4.78571135e-01,\n",
       "         1.32509732e-01],\n",
       "       [-7.79513300e-01, -8.22569778e-01,  8.07091462e-02,\n",
       "         2.64141916e-01],\n",
       "       [-1.02184904e+00, -2.43394714e+00, -1.46640561e-01,\n",
       "        -2.62386821e-01],\n",
       "       [ 6.86617933e-02, -1.31979479e-01,  2.51221427e-01,\n",
       "         3.95774101e-01],\n",
       "       [ 1.89829664e-01, -1.97355361e+00,  1.37546573e-01,\n",
       "        -2.62386821e-01],\n",
       "       [ 3.10997534e-01, -3.62176246e-01,  5.35408562e-01,\n",
       "         2.64141916e-01],\n",
       "       [-2.94841818e-01, -3.62176246e-01, -8.98031345e-02,\n",
       "         1.32509732e-01],\n",
       "       [ 1.03800476e+00,  9.82172869e-02,  3.64896281e-01,\n",
       "         2.64141916e-01],\n",
       "       [-2.94841818e-01, -1.31979479e-01,  4.21733708e-01,\n",
       "         3.95774101e-01],\n",
       "       [-5.25060772e-02, -8.22569778e-01,  1.94384000e-01,\n",
       "        -2.62386821e-01],\n",
       "       [ 4.32165405e-01, -1.97355361e+00,  4.21733708e-01,\n",
       "         3.95774101e-01],\n",
       "       [-2.94841818e-01, -1.28296331e+00,  8.07091462e-02,\n",
       "        -1.30754636e-01],\n",
       "       [ 6.86617933e-02,  3.28414053e-01,  5.92245988e-01,\n",
       "         7.90670654e-01],\n",
       "       [ 3.10997534e-01, -5.92373012e-01,  1.37546573e-01,\n",
       "         1.32509732e-01],\n",
       "       [ 5.53333275e-01, -1.28296331e+00,  6.49083415e-01,\n",
       "         3.95774101e-01],\n",
       "       [ 3.10997534e-01, -5.92373012e-01,  5.35408562e-01,\n",
       "         8.77547895e-04],\n",
       "       [ 6.74501145e-01, -3.62176246e-01,  3.08058854e-01,\n",
       "         1.32509732e-01],\n",
       "       [ 9.16836886e-01, -1.31979479e-01,  3.64896281e-01,\n",
       "         2.64141916e-01],\n",
       "       [ 1.15917263e+00, -5.92373012e-01,  5.92245988e-01,\n",
       "         2.64141916e-01],\n",
       "       [ 1.03800476e+00, -1.31979479e-01,  7.05920842e-01,\n",
       "         6.59038469e-01],\n",
       "       [ 1.89829664e-01, -3.62176246e-01,  4.21733708e-01,\n",
       "         3.95774101e-01],\n",
       "       [-1.73673948e-01, -1.05276654e+00, -1.46640561e-01,\n",
       "        -2.62386821e-01],\n",
       "       [-4.16009689e-01, -1.51316008e+00,  2.38717193e-02,\n",
       "        -1.30754636e-01],\n",
       "       [-4.16009689e-01, -1.51316008e+00, -3.29657076e-02,\n",
       "        -2.62386821e-01],\n",
       "       [-5.25060772e-02, -8.22569778e-01,  8.07091462e-02,\n",
       "         8.77547895e-04],\n",
       "       [ 1.89829664e-01, -8.22569778e-01,  7.62758269e-01,\n",
       "         5.27406285e-01],\n",
       "       [-5.37177559e-01, -1.31979479e-01,  4.21733708e-01,\n",
       "         3.95774101e-01],\n",
       "       [ 1.89829664e-01,  7.88807586e-01,  4.21733708e-01,\n",
       "         5.27406285e-01],\n",
       "       [ 1.03800476e+00,  9.82172869e-02,  5.35408562e-01,\n",
       "         3.95774101e-01],\n",
       "       [ 5.53333275e-01, -1.74335684e+00,  3.64896281e-01,\n",
       "         1.32509732e-01],\n",
       "       [-2.94841818e-01, -1.31979479e-01,  1.94384000e-01,\n",
       "         1.32509732e-01],\n",
       "       [-4.16009689e-01, -1.28296331e+00,  1.37546573e-01,\n",
       "         1.32509732e-01],\n",
       "       [-4.16009689e-01, -1.05276654e+00,  3.64896281e-01,\n",
       "         8.77547895e-04],\n",
       "       [ 3.10997534e-01, -1.31979479e-01,  4.78571135e-01,\n",
       "         2.64141916e-01],\n",
       "       [-5.25060772e-02, -1.05276654e+00,  1.37546573e-01,\n",
       "         8.77547895e-04],\n",
       "       [-1.02184904e+00, -1.74335684e+00, -2.60315415e-01,\n",
       "        -2.62386821e-01],\n",
       "       [-2.94841818e-01, -8.22569778e-01,  2.51221427e-01,\n",
       "         1.32509732e-01],\n",
       "       [-1.73673948e-01, -1.31979479e-01,  2.51221427e-01,\n",
       "         8.77547895e-04],\n",
       "       [-1.73673948e-01, -3.62176246e-01,  2.51221427e-01,\n",
       "         1.32509732e-01],\n",
       "       [ 4.32165405e-01, -3.62176246e-01,  3.08058854e-01,\n",
       "         1.32509732e-01],\n",
       "       [-9.00681170e-01, -1.28296331e+00, -4.30827696e-01,\n",
       "        -1.30754636e-01],\n",
       "       [-1.73673948e-01, -5.92373012e-01,  1.94384000e-01,\n",
       "         1.32509732e-01],\n",
       "       [ 5.53333275e-01,  5.58610819e-01,  1.27429511e+00,\n",
       "         1.71209594e+00],\n",
       "       [-5.25060772e-02, -8.22569778e-01,  7.62758269e-01,\n",
       "         9.22302838e-01],\n",
       "       [ 1.52267624e+00, -1.31979479e-01,  1.21745768e+00,\n",
       "         1.18556721e+00],\n",
       "       [ 5.53333275e-01, -3.62176246e-01,  1.04694540e+00,\n",
       "         7.90670654e-01],\n",
       "       [ 7.95669016e-01, -1.31979479e-01,  1.16062026e+00,\n",
       "         1.31719939e+00],\n",
       "       [ 2.12851559e+00, -1.31979479e-01,  1.61531967e+00,\n",
       "         1.18556721e+00],\n",
       "       [-1.14301691e+00, -1.28296331e+00,  4.21733708e-01,\n",
       "         6.59038469e-01],\n",
       "       [ 1.76501198e+00, -3.62176246e-01,  1.44480739e+00,\n",
       "         7.90670654e-01],\n",
       "       [ 1.03800476e+00, -1.28296331e+00,  1.16062026e+00,\n",
       "         7.90670654e-01],\n",
       "       [ 1.64384411e+00,  1.24920112e+00,  1.33113254e+00,\n",
       "         1.71209594e+00],\n",
       "       [ 7.95669016e-01,  3.28414053e-01,  7.62758269e-01,\n",
       "         1.05393502e+00],\n",
       "       [ 6.74501145e-01, -8.22569778e-01,  8.76433123e-01,\n",
       "         9.22302838e-01],\n",
       "       [ 1.15917263e+00, -1.31979479e-01,  9.90107977e-01,\n",
       "         1.18556721e+00],\n",
       "       [-1.73673948e-01, -1.28296331e+00,  7.05920842e-01,\n",
       "         1.05393502e+00],\n",
       "       [-5.25060772e-02, -5.92373012e-01,  7.62758269e-01,\n",
       "         1.58046376e+00],\n",
       "       [ 6.74501145e-01,  3.28414053e-01,  8.76433123e-01,\n",
       "         1.44883158e+00],\n",
       "       [ 7.95669016e-01, -1.31979479e-01,  9.90107977e-01,\n",
       "         7.90670654e-01],\n",
       "       [ 2.24968346e+00,  1.70959465e+00,  1.67215710e+00,\n",
       "         1.31719939e+00],\n",
       "       [ 2.24968346e+00, -1.05276654e+00,  1.78583195e+00,\n",
       "         1.44883158e+00],\n",
       "       [ 1.89829664e-01, -1.97355361e+00,  7.05920842e-01,\n",
       "         3.95774101e-01],\n",
       "       [ 1.28034050e+00,  3.28414053e-01,  1.10378283e+00,\n",
       "         1.44883158e+00],\n",
       "       [-2.94841818e-01, -5.92373012e-01,  6.49083415e-01,\n",
       "         1.05393502e+00],\n",
       "       [ 2.24968346e+00, -5.92373012e-01,  1.67215710e+00,\n",
       "         1.05393502e+00],\n",
       "       [ 5.53333275e-01, -8.22569778e-01,  6.49083415e-01,\n",
       "         7.90670654e-01],\n",
       "       [ 1.03800476e+00,  5.58610819e-01,  1.10378283e+00,\n",
       "         1.18556721e+00],\n",
       "       [ 1.64384411e+00,  3.28414053e-01,  1.27429511e+00,\n",
       "         7.90670654e-01],\n",
       "       [ 4.32165405e-01, -5.92373012e-01,  5.92245988e-01,\n",
       "         7.90670654e-01],\n",
       "       [ 3.10997534e-01, -1.31979479e-01,  6.49083415e-01,\n",
       "         7.90670654e-01],\n",
       "       [ 6.74501145e-01, -5.92373012e-01,  1.04694540e+00,\n",
       "         1.18556721e+00],\n",
       "       [ 1.64384411e+00, -1.31979479e-01,  1.16062026e+00,\n",
       "         5.27406285e-01],\n",
       "       [ 1.88617985e+00, -5.92373012e-01,  1.33113254e+00,\n",
       "         9.22302838e-01],\n",
       "       [ 2.49201920e+00,  1.70959465e+00,  1.50164482e+00,\n",
       "         1.05393502e+00],\n",
       "       [ 6.74501145e-01, -5.92373012e-01,  1.04694540e+00,\n",
       "         1.31719939e+00],\n",
       "       [ 5.53333275e-01, -5.92373012e-01,  7.62758269e-01,\n",
       "         3.95774101e-01],\n",
       "       [ 3.10997534e-01, -1.05276654e+00,  1.04694540e+00,\n",
       "         2.64141916e-01],\n",
       "       [ 2.24968346e+00, -1.31979479e-01,  1.33113254e+00,\n",
       "         1.44883158e+00],\n",
       "       [ 5.53333275e-01,  7.88807586e-01,  1.04694540e+00,\n",
       "         1.58046376e+00],\n",
       "       [ 6.74501145e-01,  9.82172869e-02,  9.90107977e-01,\n",
       "         7.90670654e-01],\n",
       "       [ 1.89829664e-01, -1.31979479e-01,  5.92245988e-01,\n",
       "         7.90670654e-01],\n",
       "       [ 1.28034050e+00,  9.82172869e-02,  9.33270550e-01,\n",
       "         1.18556721e+00],\n",
       "       [ 1.03800476e+00,  9.82172869e-02,  1.04694540e+00,\n",
       "         1.58046376e+00],\n",
       "       [ 1.28034050e+00,  9.82172869e-02,  7.62758269e-01,\n",
       "         1.44883158e+00],\n",
       "       [-5.25060772e-02, -8.22569778e-01,  7.62758269e-01,\n",
       "         9.22302838e-01],\n",
       "       [ 1.15917263e+00,  3.28414053e-01,  1.21745768e+00,\n",
       "         1.44883158e+00],\n",
       "       [ 1.03800476e+00,  5.58610819e-01,  1.10378283e+00,\n",
       "         1.71209594e+00],\n",
       "       [ 1.03800476e+00, -1.31979479e-01,  8.19595696e-01,\n",
       "         1.44883158e+00],\n",
       "       [ 5.53333275e-01, -1.28296331e+00,  7.05920842e-01,\n",
       "         9.22302838e-01],\n",
       "       [ 7.95669016e-01, -1.31979479e-01,  8.19595696e-01,\n",
       "         1.05393502e+00],\n",
       "       [ 4.32165405e-01,  7.88807586e-01,  9.33270550e-01,\n",
       "         1.44883158e+00],\n",
       "       [ 6.86617933e-02, -1.31979479e-01,  7.62758269e-01,\n",
       "         7.90670654e-01]])"
      ]
     },
     "execution_count": 25,
     "metadata": {},
     "output_type": "execute_result"
    }
   ],
   "source": [
    "# fit_transform을 통해 반환되는 값은 배열 형태\n",
    "iris_scaled"
   ]
  },
  {
   "cell_type": "code",
   "execution_count": 26,
   "metadata": {
    "ExecuteTime": {
     "end_time": "2021-08-29T07:29:54.180866Z",
     "start_time": "2021-08-29T07:29:54.163107Z"
    }
   },
   "outputs": [
    {
     "name": "stdout",
     "output_type": "stream",
     "text": [
      "훈련 데이터 점수 : 0.9619047619047619\n",
      "테스트 데이터 점수 : 0.9777777777777777\n"
     ]
    }
   ],
   "source": [
    " X_train, X_test, y_train, y_test = train_test_split(iris_df_scaled, iris.target, test_size=0.3)\n",
    " \n",
    " model = LogisticRegression()\n",
    " model.fit(X_train, y_train)\n",
    " \n",
    " print('훈련 데이터 점수 : {}'.format(model.score(X_train, y_train)))\n",
    " print('테스트 데이터 점수 : {}'.format(model.score(X_test, y_test)))"
   ]
  },
  {
   "cell_type": "markdown",
   "metadata": {
    "id": "2TctmHqowvBG"
   },
   "source": [
    "### `MinMaxScaler`: 정규화 클래스"
   ]
  },
  {
   "cell_type": "code",
   "execution_count": 27,
   "metadata": {
    "ExecuteTime": {
     "end_time": "2021-08-29T07:30:02.014878Z",
     "start_time": "2021-08-29T07:30:01.994141Z"
    },
    "id": "u5_id8diw6l-"
   },
   "outputs": [
    {
     "data": {
      "text/html": [
       "<div>\n",
       "<style scoped>\n",
       "    .dataframe tbody tr th:only-of-type {\n",
       "        vertical-align: middle;\n",
       "    }\n",
       "\n",
       "    .dataframe tbody tr th {\n",
       "        vertical-align: top;\n",
       "    }\n",
       "\n",
       "    .dataframe thead th {\n",
       "        text-align: right;\n",
       "    }\n",
       "</style>\n",
       "<table border=\"1\" class=\"dataframe\">\n",
       "  <thead>\n",
       "    <tr style=\"text-align: right;\">\n",
       "      <th></th>\n",
       "      <th>sepal length (cm)</th>\n",
       "      <th>sepal width (cm)</th>\n",
       "      <th>petal length (cm)</th>\n",
       "      <th>petal width (cm)</th>\n",
       "    </tr>\n",
       "  </thead>\n",
       "  <tbody>\n",
       "    <tr>\n",
       "      <th>count</th>\n",
       "      <td>150.000000</td>\n",
       "      <td>150.000000</td>\n",
       "      <td>150.000000</td>\n",
       "      <td>150.000000</td>\n",
       "    </tr>\n",
       "    <tr>\n",
       "      <th>mean</th>\n",
       "      <td>0.428704</td>\n",
       "      <td>0.440556</td>\n",
       "      <td>0.467458</td>\n",
       "      <td>0.458056</td>\n",
       "    </tr>\n",
       "    <tr>\n",
       "      <th>std</th>\n",
       "      <td>0.230018</td>\n",
       "      <td>0.181611</td>\n",
       "      <td>0.299203</td>\n",
       "      <td>0.317599</td>\n",
       "    </tr>\n",
       "    <tr>\n",
       "      <th>min</th>\n",
       "      <td>0.000000</td>\n",
       "      <td>0.000000</td>\n",
       "      <td>0.000000</td>\n",
       "      <td>0.000000</td>\n",
       "    </tr>\n",
       "    <tr>\n",
       "      <th>25%</th>\n",
       "      <td>0.222222</td>\n",
       "      <td>0.333333</td>\n",
       "      <td>0.101695</td>\n",
       "      <td>0.083333</td>\n",
       "    </tr>\n",
       "    <tr>\n",
       "      <th>50%</th>\n",
       "      <td>0.416667</td>\n",
       "      <td>0.416667</td>\n",
       "      <td>0.567797</td>\n",
       "      <td>0.500000</td>\n",
       "    </tr>\n",
       "    <tr>\n",
       "      <th>75%</th>\n",
       "      <td>0.583333</td>\n",
       "      <td>0.541667</td>\n",
       "      <td>0.694915</td>\n",
       "      <td>0.708333</td>\n",
       "    </tr>\n",
       "    <tr>\n",
       "      <th>max</th>\n",
       "      <td>1.000000</td>\n",
       "      <td>1.000000</td>\n",
       "      <td>1.000000</td>\n",
       "      <td>1.000000</td>\n",
       "    </tr>\n",
       "  </tbody>\n",
       "</table>\n",
       "</div>"
      ],
      "text/plain": [
       "       sepal length (cm)  sepal width (cm)  petal length (cm)  \\\n",
       "count         150.000000        150.000000         150.000000   \n",
       "mean            0.428704          0.440556           0.467458   \n",
       "std             0.230018          0.181611           0.299203   \n",
       "min             0.000000          0.000000           0.000000   \n",
       "25%             0.222222          0.333333           0.101695   \n",
       "50%             0.416667          0.416667           0.567797   \n",
       "75%             0.583333          0.541667           0.694915   \n",
       "max             1.000000          1.000000           1.000000   \n",
       "\n",
       "       petal width (cm)  \n",
       "count        150.000000  \n",
       "mean           0.458056  \n",
       "std            0.317599  \n",
       "min            0.000000  \n",
       "25%            0.083333  \n",
       "50%            0.500000  \n",
       "75%            0.708333  \n",
       "max            1.000000  "
      ]
     },
     "execution_count": 27,
     "metadata": {},
     "output_type": "execute_result"
    }
   ],
   "source": [
    "from sklearn.preprocessing import MinMaxScaler\n",
    "\n",
    "scaler = MinMaxScaler()\n",
    "iris_scaled = scaler.fit_transform(iris_df)\n",
    "iris_df_scaled = pd.DataFrame(data= iris_scaled, columns=iris.feature_names)\n",
    "iris_df_scaled.describe()"
   ]
  },
  {
   "cell_type": "code",
   "execution_count": 28,
   "metadata": {
    "ExecuteTime": {
     "end_time": "2021-08-29T07:30:02.844585Z",
     "start_time": "2021-08-29T07:30:02.825040Z"
    },
    "id": "nDmNGhWxy3NN"
   },
   "outputs": [
    {
     "name": "stdout",
     "output_type": "stream",
     "text": [
      "훈련 데이터 점수 : 0.9333333333333333\n",
      "데스트 데이터 점수 : 0.8888888888888888\n"
     ]
    }
   ],
   "source": [
    "X_train, X_test, y_train, y_test = train_test_split(iris_df_scaled, iris.target, test_size=0.3)\n",
    "\n",
    "model = LogisticRegression()\n",
    "model.fit(X_train, y_train)\n",
    "\n",
    "print('훈련 데이터 점수 : {}'.format(model.score(X_train, y_train)))\n",
    "print('데스트 데이터 점수 : {}'.format(model.score(X_test, y_test)))"
   ]
  },
  {
   "cell_type": "markdown",
   "metadata": {
    "id": "GleRpgpOAVPE"
   },
   "source": [
    "## 성능 평가 지표"
   ]
  },
  {
   "cell_type": "markdown",
   "metadata": {
    "id": "ZW0mVKVBApg5"
   },
   "source": [
    "### 정확도(Accuracy)\n",
    "\n",
    "* 정확도는 전체 예측 데이터 건수 중 예측 결과가 동일한 데이터 건수로 계산\n",
    "* scikit-learn에서는 `accuracy_score` 함수를 제공\n",
    "\n"
   ]
  },
  {
   "cell_type": "code",
   "execution_count": 29,
   "metadata": {
    "ExecuteTime": {
     "end_time": "2021-08-29T07:30:05.586078Z",
     "start_time": "2021-08-29T07:30:05.569338Z"
    },
    "id": "o5bYSmjiBOXK"
   },
   "outputs": [
    {
     "name": "stdout",
     "output_type": "stream",
     "text": [
      "훈련 데이터 점수 :0.9942857142857143\n",
      "테스트 데이터 점수 :0.9942857142857143\n",
      "정확도 : 0.99\n"
     ]
    }
   ],
   "source": [
    "from sklearn.datasets import make_classification\n",
    "from sklearn.linear_model import LogisticRegression\n",
    "from sklearn.metrics import  accuracy_score\n",
    "\n",
    "X, y = make_classification(n_samples=1000, n_features=2, n_informative=2,\n",
    "n_redundant=0, n_clusters_per_class=1)\n",
    "\n",
    "X_train, X_test, y_train, y_test = train_test_split(X, y, test_size=0.3)\n",
    "\n",
    "model = LogisticRegression()\n",
    "model.fit(X_train, y_train)\n",
    "\n",
    "print('훈련 데이터 점수 :{}'.format(model.score(X_train, y_train)))\n",
    "print('테스트 데이터 점수 :{}'.format(model.score(X_train, y_train)))\n",
    "\n",
    "predict = model.predict(X_test)\n",
    "print('정확도 : {}'.format(accuracy_score(y_test, predict)))\n",
    "\n",
    "# 데이터의 분포가 균일하지 않더라도 정확도는 높게 나올 수 있다. \n",
    "# 정확도만 가지고 판단하기에는 놓힐수 있는 부분이 있다."
   ]
  },
  {
   "cell_type": "code",
   "execution_count": 31,
   "metadata": {
    "ExecuteTime": {
     "end_time": "2021-08-29T07:30:17.922239Z",
     "start_time": "2021-08-29T07:30:17.920047Z"
    }
   },
   "outputs": [],
   "source": [
    "# X_train, X_test, y_train, y_test = train_test_split(X, y, test_size=0.3)\n",
    "# X_train.shape, y_train.shape\n",
    "# => ((700, 2), (700,))\n",
    "# X_train, y_train, X_test, y_test = train_test_split(X, y, test_size=0.3)\n",
    "# X_train.shape, y_train.shape\n",
    "# => ((700, 2), (300, 2))"
   ]
  },
  {
   "cell_type": "markdown",
   "metadata": {
    "id": "lEsjYTnbDR3A"
   },
   "source": [
    "### 오차 행렬(Confusion Matrix)\n",
    "\n",
    "* True Negative: 예측값을 Negative 값 0으로 예측했고, 실제 값도 Negative 값 0\n",
    "* False Positive: 예측값을 Positive 값 1로 예측했는데, 실제 값은 Negative 값 0\n",
    "* False Negative: 예측값을 Negative 값 0으로 예측했는데, 실제 값은 Positive 값 1\n",
    "* True Positive: 예측값을 Positive 값 1로 예측했고, 실제 값도 Positive 값 1"
   ]
  },
  {
   "cell_type": "code",
   "execution_count": 32,
   "metadata": {
    "ExecuteTime": {
     "end_time": "2021-08-29T07:30:19.995712Z",
     "start_time": "2021-08-29T07:30:19.990611Z"
    },
    "id": "pYeVwfICEKcL"
   },
   "outputs": [
    {
     "name": "stdout",
     "output_type": "stream",
     "text": [
      "[[139   2]\n",
      " [  1 158]]\n"
     ]
    }
   ],
   "source": [
    "from sklearn.metrics import confusion_matrix\n",
    "\n",
    "confmat = confusion_matrix(y_true=y_test, y_pred=predict)\n",
    "print(confmat)"
   ]
  },
  {
   "cell_type": "code",
   "execution_count": 33,
   "metadata": {
    "ExecuteTime": {
     "end_time": "2021-08-29T07:30:22.049373Z",
     "start_time": "2021-08-29T07:30:21.971702Z"
    },
    "id": "ow3jcKmgEspA"
   },
   "outputs": [
    {
     "data": {
      "image/png": "[encoded data removed]",
      "text/plain": [
       "<Figure size 180x180 with 1 Axes>"
      ]
     },
     "metadata": {},
     "output_type": "display_data"
    }
   ],
   "source": [
    "fig, ax = plt.subplots(figsize=(2.5, 2.5))\n",
    "ax.matshow(confmat, cmap=plt.cm.Blues, alpha=0.3)\n",
    "for i in range(confmat.shape[0]):\n",
    "    for j in range(confmat.shape[1]):\n",
    "        ax.text(x=j, y=i, s=confmat[i, j], va='center', ha='center')\n",
    "        \n",
    "plt.xlabel('Predicted label')\n",
    "plt.ylabel('True lable')\n",
    "plt.tight_layout()\n",
    "plt.show()"
   ]
  },
  {
   "cell_type": "markdown",
   "metadata": {
    "id": "LLf4sth1FsQ_"
   },
   "source": [
    "### 정밀도(Precision)와 재현율(Recall)\n",
    "\n",
    "* 정밀도 = TP / (FP + TP)\n",
    "* 재현율 = TP / (FN + TP)\n",
    "\n",
    "* 정확도 = (TN + TP) / (TN + FP + FN + TP)\n",
    "* 오류율 = (FN + FP) / (TN + FP + FN + TP)"
   ]
  },
  {
   "cell_type": "code",
   "execution_count": 34,
   "metadata": {
    "ExecuteTime": {
     "end_time": "2021-08-29T07:30:24.945869Z",
     "start_time": "2021-08-29T07:30:24.939921Z"
    },
    "id": "liPg5IBuGhpj"
   },
   "outputs": [
    {
     "name": "stdout",
     "output_type": "stream",
     "text": [
      "정밀도 : 0.9875\n",
      "재현율 : 0.9937106918238994\n"
     ]
    }
   ],
   "source": [
    "from sklearn.metrics import precision_score, recall_score\n",
    "\n",
    "precision = precision_score(y_test, predict)\n",
    "recall = recall_score(y_test, predict)\n",
    "\n",
    "print('정밀도 : {}'.format(precision))\n",
    "print('재현율 : {}'.format(recall))"
   ]
  },
  {
   "cell_type": "markdown",
   "metadata": {
    "id": "iFeWdm3ZK-vW"
   },
   "source": [
    "### F1 Score(F-measure)\n",
    "\n",
    "* 정밀도와 재현율을 결합한 지표\n",
    "* 정밀도와 재현율이 어느 한쪽으로 치우치지 않을 때 높은 값을 가짐\n",
    "\n",
    "\\begin{equation}\n",
    "F1 = 2 \\times \\frac{precision \\times recall}{precision + recall}\n",
    "\\end{equation}\n"
   ]
  },
  {
   "cell_type": "code",
   "execution_count": 35,
   "metadata": {
    "ExecuteTime": {
     "end_time": "2021-08-29T07:30:27.470193Z",
     "start_time": "2021-08-29T07:30:27.464952Z"
    },
    "id": "f5atW1FDLu-s"
   },
   "outputs": [
    {
     "name": "stdout",
     "output_type": "stream",
     "text": [
      "F1 Score :0.9905956112852665\n"
     ]
    }
   ],
   "source": [
    "from sklearn.metrics import f1_score\n",
    "\n",
    "f1 = f1_score(y_test, predict)\n",
    "\n",
    "print('F1 Score :{}'.format(f1))"
   ]
  },
  {
   "cell_type": "markdown",
   "metadata": {
    "id": "OtgHCc08OAKp"
   },
   "source": [
    "### ROC 곡선과 AUC\n",
    "\n",
    "* ROC 곡선은 FPR(False Positive Rate)이 변할 때 TPR(True Positive Rate)이 어떻게 변하는지 나타내는 곡선\n",
    "  + TPR(True Positive Rate): TP / (FN + TP), 재현율\n",
    "  + TNR(True Negative Rate): TN / (FP + TN)\n",
    "  + FPR(False Positive Rate): FP / (FP + TN), 1 - TNR\n",
    "\n",
    "* AUC(Area Under Curve) 값은 ROC 곡선 밑에 면적을 구한 값 (1이 가까울수록 좋은 값)"
   ]
  },
  {
   "cell_type": "code",
   "execution_count": 36,
   "metadata": {
    "ExecuteTime": {
     "end_time": "2021-08-29T07:30:29.751000Z",
     "start_time": "2021-08-29T07:30:29.622791Z"
    },
    "id": "qqVAbkiNU1UL"
   },
   "outputs": [
    {
     "data": {
      "image/png": "[encoded data removed]",
      "text/plain": [
       "<Figure size 432x288 with 1 Axes>"
      ]
     },
     "metadata": {},
     "output_type": "display_data"
    }
   ],
   "source": [
    "from sklearn.metrics import roc_curve\n",
    "\n",
    "pred_proba_class1 = model.predict_proba(X_test)[:,1]\n",
    "fprs, tprs, thresholds = roc_curve(y_test, pred_proba_class1)\n",
    "\n",
    "plt.plot(fprs, tprs, label='ROC')\n",
    "plt.plot([0,1],[0,1], '--k', label='Random')\n",
    "start, end = plt.xlim()\n",
    "plt.xticks(np.round(np.arange(start, end, 0.1), 2))\n",
    "plt.xlim(0, 1)\n",
    "plt.ylim(0, 1)\n",
    "plt.xlabel('FPR(1-Sensitivity)')\n",
    "plt.ylabel('TOR(Recall)')\n",
    "plt.legend()\n",
    "plt.show();"
   ]
  },
  {
   "cell_type": "code",
   "execution_count": 37,
   "metadata": {
    "ExecuteTime": {
     "end_time": "2021-08-29T07:30:34.690710Z",
     "start_time": "2021-08-29T07:30:34.685086Z"
    },
    "id": "WYMKyuPKWFNF"
   },
   "outputs": [
    {
     "name": "stdout",
     "output_type": "stream",
     "text": [
      "ROC AUC Score: 0.9897631473303894\n"
     ]
    }
   ],
   "source": [
    "from sklearn.metrics import roc_auc_score\n",
    "\n",
    "roc_auc = roc_auc_score(y_test, predict)\n",
    "\n",
    "print('ROC AUC Score: {}'.format(roc_auc))"
   ]
  },
  {
   "cell_type": "markdown",
   "metadata": {
    "id": "R0H5n_UgMIx8"
   },
   "source": [
    "## 참고문헌\n",
    "\n",
    "* scikit-learn 사이트: https://scikit-learn.org/\n",
    "* Jake VanderPlas, \"Python Data Science Handbook\", O'Reilly\n",
    "* Sebastian Raschka, Vahid Mirjalili, \"Python Machine Learning\", Packt\n",
    "* Giuseppe Bonaccorso, \"Machine Learning Algorithm\", Packt\n",
    "* Aurelien Geron, \"Hands-On Machine Learning with Scikit-Learn, Keras, and TensorFlow: Concepts, Tools, and Techniques to Build Intelligent Systems\", O'Reilly"
   ]
  }
 ],
 "metadata": {
  "colab": {
   "collapsed_sections": [],
   "name": "_2 사이킷런(scikit-learn) 시작.ipynb의 사본",
   "provenance": [
    {
     "file_id": "10yp9-8ZtDjfVuh0H1lU5N9nA1y60eLzj",
     "timestamp": 1629525052819
    }
   ]
  },
  "hide_input": false,
  "kernelspec": {
   "display_name": "Python 3 (ipykernel)",
   "language": "python",
   "name": "python3"
  },
  "language_info": {
   "codemirror_mode": {
    "name": "ipython",
    "version": 3
   },
   "file_extension": ".py",
   "mimetype": "text/x-python",
   "name": "python",
   "nbconvert_exporter": "python",
   "pygments_lexer": "ipython3",
   "version": "3.8.8"
  },
  "toc": {
   "base_numbering": 1,
   "nav_menu": {},
   "number_sections": true,
   "sideBar": true,
   "skip_h1_title": false,
   "title_cell": "Table of Contents",
   "title_sidebar": "Contents",
   "toc_cell": false,
   "toc_position": {},
   "toc_section_display": true,
   "toc_window_display": false
  },
  "varInspector": {
   "cols": {
    "lenName": 16,
    "lenType": 16,
    "lenVar": 40
   },
   "kernels_config": {
    "python": {
     "delete_cmd_postfix": "",
     "delete_cmd_prefix": "del ",
     "library": "var_list.py",
     "varRefreshCmd": "print(var_dic_list())"
    },
    "r": {
     "delete_cmd_postfix": ") ",
     "delete_cmd_prefix": "rm(",
     "library": "var_list.r",
     "varRefreshCmd": "cat(var_dic_list()) "
    }
   },
   "types_to_exclude": [
    "module",
    "function",
    "builtin_function_or_method",
    "instance",
    "_Feature"
   ],
   "window_display": false
  }
 },
 "nbformat": 4,
 "nbformat_minor": 1
}
